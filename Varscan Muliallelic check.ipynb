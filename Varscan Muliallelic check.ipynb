{
 "cells": [
  {
   "cell_type": "markdown",
   "metadata": {},
   "source": [
    "## Temperature experiment allele counts by filtering method\n",
    "---\n",
    "We are going to first count the number of multiallelic sites within unique plants, then within groups of plants."
   ]
  },
  {
   "cell_type": "markdown",
   "metadata": {},
   "source": [
    "[Dan Koboldt's 2012 comment on the `readcounts` utility](https://sourceforge.net/p/varscan/discussion/1073559/thread/c647b0ba/#2acb)"
   ]
  },
  {
   "cell_type": "markdown",
   "metadata": {},
   "source": [
    "Load necessary package(s) and temperature experiment data:"
   ]
  },
  {
   "cell_type": "code",
   "execution_count": 1,
   "metadata": {},
   "outputs": [
    {
     "name": "stderr",
     "output_type": "stream",
     "text": [
      "C:\\Users\\Erik\\anaconda3\\lib\\site-packages\\IPython\\core\\interactiveshell.py:3063: DtypeWarning: Columns (9,58) have mixed types.Specify dtype option on import or set low_memory=False.\n",
      "  interactivity=interactivity, compiler=compiler, result=result)\n"
     ]
    }
   ],
   "source": [
    "\n",
    "data = pd.read_csv(\"variant-calls_temperature-expt_2020-04-07_tables.csv\",\n",
    "                   header=0,\n",
    "                   index_col=0)"
   ]
  },
  {
   "cell_type": "markdown",
   "metadata": {},
   "source": [
    "<div class=\"alert alert-block alert-warning\">\n",
    "<b>Note:</b> The above warning stems from incomplete data in rows from the 32$^{o}$ data, which we will remove.\n",
    "</div>"
   ]
  },
  {
   "cell_type": "code",
   "execution_count": 2,
   "metadata": {},
   "outputs": [],
   "source": [
    "#remove 32 degree data\n",
    "data = data.loc[data.temperature != 32]\n",
    "\n",
    "#fix the data types for the two problemmatic columns\n",
    "data.directVegParent = data.directVegParent.astype(str)\n",
    "data.DP = data.DP.astype(int)"
   ]
  },
  {
   "cell_type": "markdown",
   "metadata": {},
   "source": [
    "Define a function to return a dictionary of counts of sites with $X$ alleles "
   ]
  },
  {
   "cell_type": "code",
   "execution_count": 3,
   "metadata": {},
   "outputs": [],
   "source": [
    "def get_allele_counts(data):\n",
    "    #initialize variables to hold working data\n",
    "    running_allele_counts = []\n",
    "    count_data = {}\n",
    "    \n",
    "    #count alleles per site by unique plant ID\n",
    "    for plant in data.plantID.unique():\n",
    "        plant_data =  data.loc[data.plantID == plant]\n",
    "        for position in plant_data.pos.unique():\n",
    "            running_allele_counts.append(plant_data.loc[plant_data.pos == position].shape[0])\n",
    "    \n",
    "    #count the number of sites with i _alternate_ alleles;\n",
    "    #add 1 to dictionary index to represent _total_ alleles per site\n",
    "    for i in range(1,max(running_allele_counts)+1):        \n",
    "        count_data[i+1] = running_allele_counts.count(i)\n",
    "        \n",
    "    #return the dictionary    \n",
    "    return count_data\n",
    "\n",
    "def print_counts(data):\n",
    "    \n",
    "    #print the allele counts nicely\n",
    "    print(\"Alleles/site\\t# Observed\")\n",
    "    for count in data.keys():\n",
    "        print(\"{}\\t\\t{}\".format(count,data[count]))\n",
    "    return"
   ]
  },
  {
   "cell_type": "code",
   "execution_count": 4,
   "metadata": {},
   "outputs": [],
   "source": [
    "raw_allele_counts = get_allele_counts(data)"
   ]
  },
  {
   "cell_type": "code",
   "execution_count": 5,
   "metadata": {},
   "outputs": [
    {
     "name": "stdout",
     "output_type": "stream",
     "text": [
      "Alleles/site\t# Observed\n",
      "2\t\t14483\n",
      "3\t\t8799\n",
      "4\t\t5083\n",
      "5\t\t2336\n",
      "6\t\t750\n",
      "7\t\t165\n",
      "8\t\t17\n",
      "9\t\t1\n"
     ]
    }
   ],
   "source": [
    "print_counts(raw_allele_counts)"
   ]
  },
  {
   "cell_type": "markdown",
   "metadata": {},
   "source": [
    "Remove the alleles with no representation in one technical replicate: "
   ]
  },
  {
   "cell_type": "code",
   "execution_count": 6,
   "metadata": {},
   "outputs": [],
   "source": [
    "no_na_data = data.dropna(subset=['DPReplicateA','DPReplicateB'])"
   ]
  },
  {
   "cell_type": "code",
   "execution_count": 7,
   "metadata": {},
   "outputs": [],
   "source": [
    "no_na_counts = get_allele_counts(no_na_data)"
   ]
  },
  {
   "cell_type": "code",
   "execution_count": 8,
   "metadata": {},
   "outputs": [
    {
     "name": "stdout",
     "output_type": "stream",
     "text": [
      "Alleles/site\t# Observed\n",
      "2\t\t15008\n",
      "3\t\t5056\n",
      "4\t\t1258\n",
      "5\t\t120\n"
     ]
    }
   ],
   "source": [
    "print_counts(no_na_counts)"
   ]
  },
  {
   "cell_type": "markdown",
   "metadata": {},
   "source": [
    "#### Filter alleles by minimum 3% in at least one technical replicate, and present in the other"
   ]
  },
  {
   "cell_type": "code",
   "execution_count": 9,
   "metadata": {},
   "outputs": [
    {
     "name": "stdout",
     "output_type": "stream",
     "text": [
      "Alleles/site\t# Observed\n",
      "2\t\t1158\n",
      "3\t\t12\n"
     ]
    }
   ],
   "source": [
    "min_3percent = pd.merge(no_na_data.loc[no_na_data.freqPropReplicateA >= 0.03],\n",
    "                        no_na_data.loc[no_na_data.freqPropReplicateB >= 0.03],\n",
    "                        how='outer')\n",
    "\n",
    "min_3percent.drop_duplicates(inplace=True)\n",
    "min_3percent_allele_counts = get_allele_counts(min_3percent)\n",
    "print_counts(min_3percent_allele_counts)"
   ]
  },
  {
   "cell_type": "markdown",
   "metadata": {},
   "source": [
    "Let's look at how minimum frequency cutoff affects max allele count per site"
   ]
  },
  {
   "cell_type": "code",
   "execution_count": 10,
   "metadata": {},
   "outputs": [],
   "source": [
    "def min_snp_freq_data(data, minimum=0.01, freq1='freqPropReplicateA', freq2='freqPropReplicateB'):\n",
    "    \n",
    "    temp = pd.merge(data.loc[data[freq1] >= minimum],data.loc[data[freq2] >= minimum],how='outer')\n",
    "    return temp"
   ]
  },
  {
   "cell_type": "code",
   "execution_count": 11,
   "metadata": {},
   "outputs": [],
   "source": [
    "x = [i/1000 for i in range(0,31)]\n",
    "y = [max(get_allele_counts(min_snp_freq_data(no_na_data,j))) for j in x]"
   ]
  },
  {
   "cell_type": "code",
   "execution_count": 12,
   "metadata": {
    "scrolled": false
   },
   "outputs": [
    {
     "data": {
      "text/plain": [
       "Text(0.5, 1.0, 'Alleles represented in both tech reps')"
      ]
     },
     "execution_count": 12,
     "metadata": {},
     "output_type": "execute_result"
    },
    {
     "data": {
      "image/png": "[encoded data removed]",
      "text/plain": [
       "<Figure size 432x288 with 1 Axes>"
      ]
     },
     "metadata": {
      "needs_background": "light"
     },
     "output_type": "display_data"
    }
   ],
   "source": [
    "plt.plot(x,y)\n",
    "plt.xlabel(\"Minimum SNP frequency\",fontsize=14)\n",
    "plt.ylabel(\"Max allele count\",fontsize=14)\n",
    "plt.suptitle(\"Maximum allele count across minimum cutoff values\",fontsize=16)\n",
    "plt.title(\"Alleles represented in both tech reps\")"
   ]
  },
  {
   "cell_type": "code",
   "execution_count": 13,
   "metadata": {},
   "outputs": [],
   "source": [
    "x_r = [i/1000 for i in range(0,31)]\n",
    "y_r = [max(get_allele_counts(min_snp_freq_data(data,j))) for j in x_r]"
   ]
  },
  {
   "cell_type": "code",
   "execution_count": 14,
   "metadata": {},
   "outputs": [
    {
     "data": {
      "text/plain": [
       "Text(0.5, 1.0, 'Alleles represented in either tech rep')"
      ]
     },
     "execution_count": 14,
     "metadata": {},
     "output_type": "execute_result"
    },
    {
     "data": {
      "image/png": "[encoded data removed]",
      "text/plain": [
       "<Figure size 432x288 with 1 Axes>"
      ]
     },
     "metadata": {
      "needs_background": "light"
     },
     "output_type": "display_data"
    }
   ],
   "source": [
    "plt.plot(x_r,y_r)\n",
    "plt.xlabel(\"Minimum SNP frequency\",fontsize=14)\n",
    "plt.ylabel(\"Max allele count\",fontsize=14)\n",
    "plt.suptitle(\"Maximum allele count across minimum cutoff values\",fontsize=16)\n",
    "plt.title(\"Alleles represented in either tech rep\")"
   ]
  },
  {
   "cell_type": "markdown",
   "metadata": {},
   "source": [
    "#### Calculate a mean frequency between technical replicates and filter alleles by minimum 3% of the mean\n",
    "First, use raw data and fill NA's with zeros then filter by minimum 3% average"
   ]
  },
  {
   "cell_type": "code",
   "execution_count": 15,
   "metadata": {},
   "outputs": [
    {
     "name": "stdout",
     "output_type": "stream",
     "text": [
      "Alleles/site\t# Observed\n",
      "2\t\t1110\n",
      "3\t\t12\n"
     ]
    }
   ],
   "source": [
    "#fill the NAs of the frequency columns with zeros\n",
    "data.freqPropReplicateA.fillna(0)\n",
    "data.freqPropReplicateB.fillna(0)\n",
    "\n",
    "#generate an average frequency proportion column (simple)\n",
    "data['meanFreqProp'] = data[['freqPropReplicateA','freqPropReplicateB']].mean(axis=1)\n",
    "\n",
    "#count the sites with X alleles\n",
    "mean_3percent = data.loc[data.meanFreqProp >= 0.03]\n",
    "mean_3percent_allele_counts = get_allele_counts(mean_3percent)\n",
    "print_counts(mean_3percent_allele_counts)"
   ]
  },
  {
   "cell_type": "markdown",
   "metadata": {},
   "source": [
    "#### Calculate a mean frequency between technical replicates after having dropped alleles with no representation in one technical replicate"
   ]
  },
  {
   "cell_type": "code",
   "execution_count": 16,
   "metadata": {},
   "outputs": [
    {
     "name": "stderr",
     "output_type": "stream",
     "text": [
      "C:\\Users\\Erik\\anaconda3\\lib\\site-packages\\ipykernel_launcher.py:2: UserWarning: Pandas doesn't allow columns to be created via a new attribute name - see https://pandas.pydata.org/pandas-docs/stable/indexing.html#attribute-access\n",
      "  \n"
     ]
    },
    {
     "name": "stdout",
     "output_type": "stream",
     "text": [
      "Alleles/site\t# Observed\n",
      "2\t\t1090\n",
      "3\t\t12\n"
     ]
    }
   ],
   "source": [
    "#generate an average frequency proportion column (must be present in both tech reps)\n",
    "no_na_data.meanFreqProp = no_na_data[['freqPropReplicateA','freqPropReplicateB']].mean(axis=1)\n",
    "\n",
    "#count the sites with X alleles\n",
    "mean_3percent_no_na = no_na_data.loc[no_na_data.meanFreqProp >= 0.03]\n",
    "mean_3percent_no_na_allele_counts = get_allele_counts(mean_3percent_no_na)\n",
    "print_counts(mean_3percent_no_na_allele_counts)"
   ]
  },
  {
   "cell_type": "markdown",
   "metadata": {},
   "source": [
    "(*to do*)\n",
    "### Now let's count alleles by groups of plants\n",
    "Maintain separation of species and segment, but group by round, temperature, etc."
   ]
  },
  {
   "cell_type": "code",
   "execution_count": 17,
   "metadata": {},
   "outputs": [],
   "source": [
    "#raw data, no 32 degree samples\n",
    "acmv_a = data.loc[data.chrom == 'ACMV DNA-A']\n",
    "acmv_b = data.loc[data.chrom == 'ACMV DNA-B']\n",
    "eacmcv_a = data.loc[data.chrom == 'EACMCV DNA-A']\n",
    "eacmcv_b = data.loc[data.chrom == 'EACMCV DNA-B']\n",
    "\n",
    "#NAs dropped\n",
    "acmv_a_no_na = no_na_data.loc[no_na_data.chrom == 'ACMV DNA-A']\n",
    "acmv_b_no_na = no_na_data.loc[no_na_data.chrom == 'ACMV DNA-B']\n",
    "eacmcv_a_no_na_data = no_na_data.loc[no_na_data.chrom == 'EACMCV DNA-A']\n",
    "eacmcv_b_no_na_data = no_na_data.loc[no_na_data.chrom == 'EACMCV DNA-B']\n"
   ]
  }
 ],
 "metadata": {
  "kernelspec": {
   "display_name": "Python 3",
   "language": "python",
   "name": "python3"
  },
  "language_info": {
   "codemirror_mode": {
    "name": "ipython",
    "version": 3
   },
   "file_extension": ".py",
   "mimetype": "text/x-python",
   "name": "python",
   "nbconvert_exporter": "python",
   "pygments_lexer": "ipython3",
   "version": "3.7.6"
  }
 },
 "nbformat": 4,
 "nbformat_minor": 4
}
