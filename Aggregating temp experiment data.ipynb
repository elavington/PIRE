{
 "cells": [
  {
   "cell_type": "markdown",
   "metadata": {},
   "source": [
    "## Aggregating vs averaging variant frequencies within groups\n",
    "___"
   ]
  },
  {
   "cell_type": "markdown",
   "metadata": {},
   "source": [
    "Load necessary packages and temperature experiment data file "
   ]
  },
  {
   "cell_type": "code",
   "execution_count": 32,
   "metadata": {},
   "outputs": [],
   "source": [
    "import pandas as pd\n",
    "import numpy as np\n",
    "from pi_for_temperature_notebook import *\n",
    "import statsmodels.api as sm\n",
    "import statsmodels.formula.api as sf\n",
    "import matplotlib.pyplot as plt"
   ]
  },
  {
   "cell_type": "code",
   "execution_count": 2,
   "metadata": {},
   "outputs": [
    {
     "name": "stderr",
     "output_type": "stream",
     "text": [
      "C:\\Users\\Erik\\anaconda3\\lib\\site-packages\\IPython\\core\\interactiveshell.py:3063: DtypeWarning: Columns (9,58) have mixed types.Specify dtype option on import or set low_memory=False.\n",
      "  interactivity=interactivity, compiler=compiler, result=result)\n"
     ]
    }
   ],
   "source": [
    "data = pd.read_csv(\"variant-calls_temperature-expt_2020-04-07_tables.csv\", header=0, index_col=0)"
   ]
  },
  {
   "cell_type": "markdown",
   "metadata": {},
   "source": [
    "The above errors can be ignored because they arise from 32$ ^{o} $ data, which we will filter out. Also filter out variants that are represented in only one technical replicate, as well as variants that do not have a frequency of 3% or more in at least one technical replicate."
   ]
  },
  {
   "cell_type": "code",
   "execution_count": 3,
   "metadata": {},
   "outputs": [],
   "source": [
    "data_no_32 = data.loc[data.temperature != 32]\n",
    "data_no_32_both_present = data_no_32.dropna(subset=['ADReplicateA','ADReplicateB'])\n",
    "filtered_data = pd.concat([data_no_32_both_present.loc[data_no_32_both_present.freqPropReplicateA >= 0.3],\n",
    "                           data_no_32_both_present.loc[data_no_32_both_present.freqPropReplicateB >= 0.03]]).drop_duplicates()\n"
   ]
  },
  {
   "cell_type": "markdown",
   "metadata": {},
   "source": [
    "Previous analyses has shown a tight correlation between technical replicates, as expected by the manner of the replication. Aggregate technical replicate read counts to get a single variant frequency for each sequence variant."
   ]
  },
  {
   "cell_type": "code",
   "execution_count": 4,
   "metadata": {},
   "outputs": [],
   "source": [
    "#set new DP and AD columns with aggregate of Replicate RD and AD values\n",
    "#This aggregates only counts of reads that passed VarScan filters \n",
    "filtered_data['DP'] = filtered_data['ADReplicateA'] + filtered_data['ADReplicateB'] +filtered_data['RDReplicateA'] + filtered_data['RDReplicateB']\n",
    "filtered_data['AD'] = filtered_data['ADReplicateA'] + filtered_data['ADReplicateB']\n",
    "\n",
    "#calculate frequency of aggregated read counts\n",
    "filtered_data['freqProp'] = filtered_data['AD'] / filtered_data['DP']\n"
   ]
  },
  {
   "cell_type": "markdown",
   "metadata": {},
   "source": [
    "Add factor data for lineage, species, and segment (for DNA-A and DNA-B segment designations)"
   ]
  },
  {
   "cell_type": "code",
   "execution_count": 5,
   "metadata": {},
   "outputs": [],
   "source": [
    "#lineage: set to 0 then assign each unique lineage to an unique integer\n",
    "filtered_data['lineage_factor'] = 0\n",
    "j = 0\n",
    "for lineage in filtered_data.lineage.unique():\n",
    "    filtered_data.loc[filtered_data.lineage == lineage,['lineage_factor']] = j\n",
    "    j += 1\n",
    "\n",
    "#species: Set ACMV = 0 and EACMCV = 1\n",
    "filtered_data['species'] = 0\n",
    "filtered_data.loc[filtered_data.chrom == 'EACMCV DNA-A',['species']] = 1\n",
    "filtered_data.loc[filtered_data.chrom == 'EACMCV DNA-B',['species']] = 1\n",
    "\n",
    "#segment: Set DNA-A = 0 and DNA-B = 1\n",
    "filtered_data['segment'] = 0\n",
    "filtered_data.loc[filtered_data.chrom == 'ACMV DNA-B',['segment']] = 1\n",
    "filtered_data.loc[filtered_data.chrom == 'EACMCV DNA-B',['segment']] = 1\n"
   ]
  },
  {
   "cell_type": "markdown",
   "metadata": {},
   "source": [
    "Load the options for calculation of pi then print them out."
   ]
  },
  {
   "cell_type": "code",
   "execution_count": 6,
   "metadata": {},
   "outputs": [
    {
     "name": "stdout",
     "output_type": "stream",
     "text": [
      "{'group': 'index', 'reference': 'ref', 'position': 'pos', 'alternate': 'alt', 'coverage': False, 'frequency': 'freqProp', 'perSite': True, 'sizeCorrection': False, 'length': 2800, 'sampling_variance': False}\n"
     ]
    }
   ],
   "source": [
    "options = get_temp_args()\n",
    "print(options)"
   ]
  },
  {
   "cell_type": "code",
   "execution_count": 7,
   "metadata": {},
   "outputs": [],
   "source": [
    "#set new values for options as necessary\n",
    "options['coverage'] = 'DP'\n",
    "options['perSite'] = False"
   ]
  },
  {
   "cell_type": "code",
   "execution_count": 8,
   "metadata": {},
   "outputs": [],
   "source": [
    "pis = {}\n",
    "\n",
    "grouped_data = filtered_data.groupby(by=['passage','temperature','species','segment','lineage_factor','plantID'])\n",
    "    \n",
    "for group in grouped_data:\n",
    "    \n",
    "        try:\n",
    "            N_samples = int(group[1][options['coverage']].mean())\n",
    "        except:\n",
    "            N_samples = False\n",
    "              \n",
    "        pis[group[0]] = pi(pi_data=group[1],\n",
    "            sites=(1, group[1][options['position']].max()),\n",
    "            N_samples=N_samples,\n",
    "            pos_id=options['position'],\n",
    "            Reference=options['reference'],\n",
    "            Alternate=options['alternate'],\n",
    "            frequency=options['frequency'],\n",
    "            correction=options['sizeCorrection'],\n",
    "            per_site=options['perSite'],\n",
    "            sampling_variance=options['sampling_variance'],\n",
    "            length=options['length'])\n"
   ]
  },
  {
   "cell_type": "code",
   "execution_count": 9,
   "metadata": {},
   "outputs": [],
   "source": [
    "pi_df = pd.DataFrame(columns=['pi',\n",
    "                      'passage',\n",
    "                      'temperature',\n",
    "                      'species',\n",
    "                      'segment',\n",
    "                      'lineage_factor',\n",
    "                      'plantID'])\n",
    "\n",
    "pi = []\n",
    "temperature = []\n",
    "passage = []\n",
    "species = []\n",
    "segment = []\n",
    "lineage_factor = []\n",
    "plantID = []\n",
    "\n",
    "for key in pis.keys():\n",
    "    pi.append(pis[key][0])\n",
    "    passage.append(key[0])\n",
    "    temperature.append(key[1])\n",
    "    species.append(key[2])\n",
    "    segment.append(key[3])\n",
    "    lineage_factor.append(key[4])\n",
    "    plantID.append(key[5])\n",
    "    \n",
    "    \n",
    "pi_df.pi = pi\n",
    "pi_df.passage = passage\n",
    "pi_df.temperature = temperature\n",
    "pi_df.species = species\n",
    "pi_df.segment = segment\n",
    "pi_df.lineage_factor = lineage_factor\n",
    "pi_df.plantID = plantID"
   ]
  },
  {
   "cell_type": "code",
   "execution_count": 10,
   "metadata": {
    "scrolled": true
   },
   "outputs": [
    {
     "name": "stdout",
     "output_type": "stream",
     "text": [
      "Least squares summary:\n",
      "                      Results: Ordinary least squares\n",
      "============================================================================\n",
      "Model:                   OLS                 Adj. R-squared:        0.306   \n",
      "Dependent Variable:      pi                  AIC:                   266.8368\n",
      "Date:                    2020-06-16 13:18    BIC:                   288.8837\n",
      "No. Observations:        67                  Log-Likelihood:        -123.42 \n",
      "Df Model:                9                   F-statistic:           32.40   \n",
      "Df Residuals:            57                  Prob (F-statistic):    6.29e-20\n",
      "R-squared:               0.400               Scale:                 2.7398  \n",
      "----------------------------------------------------------------------------\n",
      "                               Coef.  Std.Err.    z    P>|z|   [0.025 0.975]\n",
      "----------------------------------------------------------------------------\n",
      "Intercept                     -0.0164   0.1029 -0.1589 0.8737 -0.2180 0.1853\n",
      "C(species)[T.1]               -0.6892   0.6913 -0.9969 0.3188 -2.0442 0.6657\n",
      "C(lineage_factor)[T.1]         0.1745   0.4502  0.3875 0.6984 -0.7079 1.0568\n",
      "C(lineage_factor)[T.2]        -0.3146   0.4397 -0.7156 0.4743 -1.1764 0.5472\n",
      "C(lineage_factor)[T.3]         0.8128   1.0044  0.8092 0.4184 -1.1558 2.7814\n",
      "C(lineage_factor)[T.4]        -0.2226   0.6125 -0.3634 0.7163 -1.4231 0.9780\n",
      "C(lineage_factor)[T.5]        -0.3566   0.4555 -0.7827 0.4338 -1.2494 0.5363\n",
      "C(species)[0]:C(segment)[T.1] -0.9136   0.6010 -1.5201 0.1285 -2.0915 0.2644\n",
      "C(species)[1]:C(segment)[T.1]  0.2486   0.5584  0.4452 0.6562 -0.8458 1.3430\n",
      "passage                        1.4160   0.2711  5.2223 0.0000  0.8846 1.9475\n",
      "temperature                    0.0095   0.0220  0.4309 0.6666 -0.0337 0.0526\n",
      "----------------------------------------------------------------------------\n",
      "Omnibus:             28.951       Durbin-Watson:          2.064             \n",
      "Prob(Omnibus):       0.000        Jarque-Bera (JB):       66.187            \n",
      "Skew:                1.375        Prob(JB):               0.000             \n",
      "Kurtosis:            7.018        Condition No.:          224401478444716896\n",
      "============================================================================\n",
      "* The condition number is large (2e+17). This might indicate\n",
      "strong multicollinearity or other numerical problems.\n"
     ]
    }
   ],
   "source": [
    "lm = sf.ols('pi ~ passage + temperature + (C(species)/C(segment)) + C(lineage_factor)',data=pi_df).fit(cov_type='HC1')\n",
    "print(\"Least squares summary:\")\n",
    "print(lm.summary2())"
   ]
  },
  {
   "cell_type": "markdown",
   "metadata": {},
   "source": [
    "There is strong multicollinearity in the model. Let's inspect a few variables"
   ]
  },
  {
   "cell_type": "code",
   "execution_count": 11,
   "metadata": {
    "scrolled": true
   },
   "outputs": [
    {
     "data": {
      "image/png": "[encoded data removed]",
      "text/plain": [
       "<Figure size 432x288 with 1 Axes>"
      ]
     },
     "metadata": {
      "needs_background": "light"
     },
     "output_type": "display_data"
    }
   ],
   "source": [
    "p = pi_df.boxplot(column='pi',\n",
    "             by=['passage','temperature'],\n",
    "             patch_artist=True,\n",
    "             grid=False,\n",
    "             return_type='dict')\n",
    "\n",
    "plt.ylabel('pi',fontsize=16)\n",
    "plt.xlabel('(passage,temperature)',fontsize=16)\n",
    "ylim = plt.ylim()\n",
    "\n",
    "plt.vlines(x=[2.5,4.5],ymin=ylim[0],ymax=ylim[1])\n",
    "plt.ylim(ylim)\n",
    "\n",
    "plt.xticks(fontsize=14)\n",
    "plt.suptitle('')\n",
    "plt.title('')\n",
    "\n",
    "for median in p[0]['medians']:\n",
    "    median.set_color('k')"
   ]
  },
  {
   "cell_type": "markdown",
   "metadata": {},
   "source": [
    "Looks like we could omit temperature from the model."
   ]
  },
  {
   "cell_type": "code",
   "execution_count": 12,
   "metadata": {},
   "outputs": [
    {
     "data": {
      "image/png": "[encoded data removed]",
      "text/plain": [
       "<Figure size 432x288 with 1 Axes>"
      ]
     },
     "metadata": {
      "needs_background": "light"
     },
     "output_type": "display_data"
    }
   ],
   "source": [
    "p = pi_df.boxplot(column='pi',\n",
    "             by=['passage','lineage_factor'],\n",
    "             patch_artist=True,\n",
    "             grid=False,\n",
    "             return_type='dict',\n",
    "             rot=30)\n",
    "\n",
    "plt.ylabel('pi',fontsize=16)\n",
    "plt.xlabel('(passage,lineage)',fontsize=16)\n",
    "ylim = plt.ylim()\n",
    "\n",
    "plt.xticks(fontsize=14,ha='right')\n",
    "plt.suptitle('')\n",
    "plt.title('')\n",
    "\n",
    "ylim = plt.ylim()\n",
    "\n",
    "plt.vlines(x=[5.5,11.5],ymin=ylim[0],ymax=ylim[1])\n",
    "plt.ylim(ylim)\n",
    "\n",
    "for median in p[0]['medians']:\n",
    "    median.set_color('k')"
   ]
  },
  {
   "cell_type": "markdown",
   "metadata": {},
   "source": [
    "Looks like we can onit lineage from the model as well."
   ]
  },
  {
   "cell_type": "code",
   "execution_count": 13,
   "metadata": {},
   "outputs": [
    {
     "data": {
      "image/png": "[encoded data removed]",
      "text/plain": [
       "<Figure size 432x288 with 1 Axes>"
      ]
     },
     "metadata": {
      "needs_background": "light"
     },
     "output_type": "display_data"
    }
   ],
   "source": [
    "p = pi_df.boxplot(column='pi',\n",
    "             by=['species','segment'],\n",
    "             patch_artist=True,\n",
    "             grid=False,\n",
    "             return_type='dict',\n",
    "             rot=30)\n",
    "\n",
    "plt.ylabel('pi',fontsize=16)\n",
    "plt.xlabel('',fontsize=16)\n",
    "ylim = plt.ylim()\n",
    "\n",
    "plt.vlines(x=[2.5],ymin=ylim[0],ymax=ylim[1])\n",
    "plt.ylim(ylim)\n",
    "\n",
    "plt.xticks([1,2,3,4],\n",
    "           ['ACMV DNA-A','ACMV DNA-B','EACMCV DNA-A','EACMCV DNA-B'],\n",
    "           fontsize=14,\n",
    "           ha='right')\n",
    "plt.suptitle('')\n",
    "plt.title('')\n",
    "\n",
    "for median in p[0]['medians']:\n",
    "    median.set_color('k')"
   ]
  },
  {
   "cell_type": "markdown",
   "metadata": {},
   "source": [
    "Let's remove temperature and lineage from the model"
   ]
  },
  {
   "cell_type": "code",
   "execution_count": 14,
   "metadata": {},
   "outputs": [
    {
     "name": "stdout",
     "output_type": "stream",
     "text": [
      "Least squares summary:\n",
      "                            OLS Regression Results                            \n",
      "==============================================================================\n",
      "Dep. Variable:                     pi   R-squared:                       0.359\n",
      "Model:                            OLS   Adj. R-squared:                  0.318\n",
      "Method:                 Least Squares   F-statistic:                     10.15\n",
      "Date:                Tue, 16 Jun 2020   Prob (F-statistic):           2.20e-06\n",
      "Time:                        13:19:00   Log-Likelihood:                -125.66\n",
      "No. Observations:                  67   AIC:                             261.3\n",
      "Df Residuals:                      62   BIC:                             272.3\n",
      "Df Model:                           4                                         \n",
      "Covariance Type:                  HC1                                         \n",
      "=================================================================================================\n",
      "                                    coef    std err          z      P>|z|      [0.025      0.975]\n",
      "-------------------------------------------------------------------------------------------------\n",
      "Intercept                         0.2420      0.544      0.445      0.656      -0.824       1.308\n",
      "C(species)[T.1]                  -0.6397      0.704     -0.909      0.364      -2.020       0.740\n",
      "C(species)[0]:C(segment)[T.1]    -0.8641      0.566     -1.526      0.127      -1.974       0.246\n",
      "C(species)[1]:C(segment)[T.1]     0.2486      0.569      0.437      0.662      -0.867       1.364\n",
      "passage                           1.4142      0.265      5.333      0.000       0.894       1.934\n",
      "==============================================================================\n",
      "Omnibus:                       45.013   Durbin-Watson:                   2.128\n",
      "Prob(Omnibus):                  0.000   Jarque-Bera (JB):              161.754\n",
      "Skew:                           2.003   Prob(JB):                     7.51e-36\n",
      "Kurtosis:                       9.472   Cond. No.                         10.8\n",
      "==============================================================================\n",
      "\n",
      "Warnings:\n",
      "[1] Standard Errors are heteroscedasticity robust (HC1)\n"
     ]
    }
   ],
   "source": [
    "lm = sf.ols('pi ~ passage + (C(species)/C(segment)) ',data=pi_df).fit(cov_type='HC1')\n",
    "print(\"Least squares summary:\")\n",
    "print(lm.summary())"
   ]
  },
  {
   "cell_type": "markdown",
   "metadata": {},
   "source": [
    "Looks like a moderate improvement gained by reducing variables. Let's aggregate the data to reduce noise."
   ]
  },
  {
   "cell_type": "code",
   "execution_count": 15,
   "metadata": {},
   "outputs": [],
   "source": [
    "def aggregate_groups(data,columns,DP='DP',AD='AD',freq='freqProp'):\n",
    "    \n",
    "    aggregated_data = data.groupby(by=columns).agg(sum)\n",
    "    aggregated_data[freq] = aggregated_data[AD] / aggregated_data[DP]\n",
    "    \n",
    "    return aggregated_data"
   ]
  },
  {
   "cell_type": "code",
   "execution_count": 16,
   "metadata": {
    "scrolled": false
   },
   "outputs": [],
   "source": [
    "agg_data = aggregate_groups(filtered_data,['species','segment','pos','alt','passage','ref'])\n",
    "\n",
    "agg_data.reset_index(inplace=True)\n",
    "agg_data['pos'] = agg_data.pos.astype(int)   \n",
    "\n",
    "agg_data = agg_data.groupby(by=['species','segment','passage'])"
   ]
  },
  {
   "cell_type": "code",
   "execution_count": 19,
   "metadata": {
    "scrolled": true
   },
   "outputs": [],
   "source": [
    "agg_pis = {}\n",
    "    \n",
    "for group in agg_data:\n",
    "    \n",
    "        try:\n",
    "            N_samples = int(group[1][options['coverage']].mean())\n",
    "        except:\n",
    "            N_samples = False\n",
    "              \n",
    "        agg_pis[group[0]] = pi(pi_data=group[1],\n",
    "            sites=(1, group[1][options['position']].max()),\n",
    "            N_samples=N_samples,\n",
    "            pos_id=options['position'],\n",
    "            Reference=options['reference'],\n",
    "            Alternate=options['alternate'],\n",
    "            frequency=options['frequency'],\n",
    "            correction=options['sizeCorrection'],\n",
    "            per_site=options['perSite'],\n",
    "            sampling_variance=options['sampling_variance'],\n",
    "            length=options['length'])\n"
   ]
  },
  {
   "cell_type": "code",
   "execution_count": 20,
   "metadata": {},
   "outputs": [],
   "source": [
    "agg_pi_df = pd.DataFrame(columns=['pi',\n",
    "                      'passage',\n",
    "                      'species',\n",
    "                      'segment'])\n",
    "\n",
    "pi = []\n",
    "passage = []\n",
    "species = []\n",
    "segment = []\n",
    "\n",
    "for key in agg_pis.keys():\n",
    "    pi.append(agg_pis[key][0])\n",
    "    passage.append(key[2])\n",
    "    species.append(key[0])\n",
    "    segment.append(key[1])    \n",
    "    \n",
    "agg_pi_df.pi = pi\n",
    "agg_pi_df.passage = passage\n",
    "agg_pi_df.species = species\n",
    "agg_pi_df.segment = segment\n"
   ]
  },
  {
   "cell_type": "code",
   "execution_count": 21,
   "metadata": {},
   "outputs": [
    {
     "name": "stdout",
     "output_type": "stream",
     "text": [
      "Least squares summary:\n",
      "                            OLS Regression Results                            \n",
      "==============================================================================\n",
      "Dep. Variable:                     pi   R-squared:                       0.827\n",
      "Model:                            OLS   Adj. R-squared:                  0.729\n",
      "Method:                 Least Squares   F-statistic:                     15.28\n",
      "Date:                Tue, 16 Jun 2020   Prob (F-statistic):            0.00144\n",
      "Time:                        13:19:47   Log-Likelihood:                -31.986\n",
      "No. Observations:                  12   AIC:                             73.97\n",
      "Df Residuals:                       7   BIC:                             76.40\n",
      "Df Model:                           4                                         \n",
      "Covariance Type:                  HC1                                         \n",
      "=================================================================================================\n",
      "                                    coef    std err          z      P>|z|      [0.025      0.975]\n",
      "-------------------------------------------------------------------------------------------------\n",
      "Intercept                        -1.1571      4.219     -0.274      0.784      -9.426       7.112\n",
      "C(species)[T.1]                  -4.4801      2.952     -1.518      0.129     -10.266       1.306\n",
      "C(species)[0]:C(segment)[T.1]    -4.4079      4.410     -0.999      0.318     -13.052       4.236\n",
      "C(species)[1]:C(segment)[T.1]     1.1687      2.865      0.408      0.683      -4.446       6.783\n",
      "passage                           9.0579      1.460      6.202      0.000       6.196      11.920\n",
      "==============================================================================\n",
      "Omnibus:                        0.491   Durbin-Watson:                   2.776\n",
      "Prob(Omnibus):                  0.782   Jarque-Bera (JB):                0.514\n",
      "Skew:                           0.034   Prob(JB):                        0.773\n",
      "Kurtosis:                       1.989   Cond. No.                         10.2\n",
      "==============================================================================\n",
      "\n",
      "Warnings:\n",
      "[1] Standard Errors are heteroscedasticity robust (HC1)\n",
      "                        df      sum_sq     mean_sq          F    PR(>F)\n",
      "C(species)             1.0    8.586889    8.586889   0.413975  0.540456\n",
      "C(species):C(segment)  2.0   31.193224   15.596612   0.751914  0.506049\n",
      "passage                1.0  656.371567  656.371567  31.643723  0.000795\n",
      "Residual               7.0  145.197866   20.742552        NaN       NaN\n"
     ]
    },
    {
     "name": "stderr",
     "output_type": "stream",
     "text": [
      "C:\\Users\\Erik\\anaconda3\\lib\\site-packages\\scipy\\stats\\stats.py:1535: UserWarning: kurtosistest only valid for n>=20 ... continuing anyway, n=12\n",
      "  \"anyway, n=%i\" % int(n))\n"
     ]
    }
   ],
   "source": [
    "lm = sf.ols('pi ~ passage + C(species)/C(segment)',data=agg_pi_df).fit(cov_type='HC1')\n",
    "print(\"Least squares summary:\")\n",
    "print(lm.summary())\n",
    "\n",
    "table = sm.stats.anova_lm(lm)\n",
    "print(table)"
   ]
  },
  {
   "cell_type": "code",
   "execution_count": 22,
   "metadata": {},
   "outputs": [
    {
     "name": "stdout",
     "output_type": "stream",
     "text": [
      "C(species) explains \t 1.02% of variance\n",
      "C(species):C(segment) explains \t 3.71% of variance\n",
      "passage explains \t 78.01% of variance\n",
      "Residual explains \t 17.26% of variance\n"
     ]
    }
   ],
   "source": [
    "for ind in table.index:\n",
    "    \n",
    "    print(\"{} explains \\t {:.2%} of variance\".format(ind,table.loc[ind,'sum_sq'] / table.sum_sq.sum()))"
   ]
  },
  {
   "cell_type": "markdown",
   "metadata": {},
   "source": [
    "### Now let's look at averaging pi within groups"
   ]
  },
  {
   "cell_type": "markdown",
   "metadata": {},
   "source": [
    "Let's start with the raw data again, and use the mean between technical replicates as a single frequency per variant. `freqPropMeanNoNA` already exists as the mean of ReplicateA and ReplicateB frequencies, so we can use `filtered_data` as-is. We'll first calculate pi from the average values and inspect the analysis results."
   ]
  },
  {
   "cell_type": "code",
   "execution_count": 25,
   "metadata": {},
   "outputs": [
    {
     "name": "stdout",
     "output_type": "stream",
     "text": [
      "Least squares summary:\n",
      "                      Results: Ordinary least squares\n",
      "============================================================================\n",
      "Model:                   OLS                 Adj. R-squared:        0.306   \n",
      "Dependent Variable:      pi                  AIC:                   266.7164\n",
      "Date:                    2020-06-16 13:20    BIC:                   288.7634\n",
      "No. Observations:        67                  Log-Likelihood:        -123.36 \n",
      "Df Model:                9                   F-statistic:           32.43   \n",
      "Df Residuals:            57                  Prob (F-statistic):    6.17e-20\n",
      "R-squared:               0.400               Scale:                 2.7349  \n",
      "----------------------------------------------------------------------------\n",
      "                               Coef.  Std.Err.    z    P>|z|   [0.025 0.975]\n",
      "----------------------------------------------------------------------------\n",
      "Intercept                     -0.0162   0.1028 -0.1572 0.8751 -0.2177 0.1853\n",
      "C(species)[T.1]               -0.6877   0.6906 -0.9958 0.3194 -2.0412 0.6659\n",
      "C(lineage_factor)[T.1]         0.1715   0.4501  0.3810 0.7032 -0.7108 1.0537\n",
      "C(lineage_factor)[T.2]        -0.3143   0.4390 -0.7159 0.4741 -1.1747 0.5462\n",
      "C(lineage_factor)[T.3]         0.8104   1.0039  0.8072 0.4195 -1.1572 2.7779\n",
      "C(lineage_factor)[T.4]        -0.2230   0.6108 -0.3651 0.7151 -1.4201 0.9742\n",
      "C(lineage_factor)[T.5]        -0.3565   0.4550 -0.7834 0.4334 -1.2483 0.5354\n",
      "C(species)[0]:C(segment)[T.1] -0.9141   0.5987 -1.5267 0.1268 -2.0875 0.2594\n",
      "C(species)[1]:C(segment)[T.1]  0.2448   0.5594  0.4377 0.6616 -0.8515 1.3412\n",
      "passage                        1.4147   0.2710  5.2200 0.0000  0.8835 1.9458\n",
      "temperature                    0.0095   0.0220  0.4298 0.6673 -0.0337 0.0526\n",
      "----------------------------------------------------------------------------\n",
      "Omnibus:             29.208       Durbin-Watson:          2.063             \n",
      "Prob(Omnibus):       0.000        Jarque-Bera (JB):       67.413            \n",
      "Skew:                1.383        Prob(JB):               0.000             \n",
      "Kurtosis:            7.061        Condition No.:          224401478444716896\n",
      "============================================================================\n",
      "* The condition number is large (2e+17). This might indicate\n",
      "strong multicollinearity or other numerical problems.\n"
     ]
    }
   ],
   "source": [
    "pis = {}\n",
    "\n",
    "#set the frequency for column name of the mean of the replicates\n",
    "options['frequency'] = 'freqPropMeanNoNA'\n",
    "\n",
    "grouped_data = filtered_data.groupby(by=['passage','temperature','species','segment','lineage_factor','plantID'])\n",
    "    \n",
    "for group in grouped_data:\n",
    "    \n",
    "        try:\n",
    "            N_samples = int(group[1][options['coverage']].mean())\n",
    "        except:\n",
    "            N_samples = False\n",
    "              \n",
    "        pis[group[0]] = pi(pi_data=group[1],\n",
    "            sites=(1, group[1][options['position']].max()),\n",
    "            N_samples=N_samples,\n",
    "            pos_id=options['position'],\n",
    "            Reference=options['reference'],\n",
    "            Alternate=options['alternate'],\n",
    "            frequency=options['frequency'],\n",
    "            correction=options['sizeCorrection'],\n",
    "            per_site=options['perSite'],\n",
    "            sampling_variance=options['sampling_variance'],\n",
    "            length=options['length'])\n",
    "\n",
    "pi_df = pd.DataFrame(columns=['pi',\n",
    "                      'passage',\n",
    "                      'temperature',\n",
    "                      'species',\n",
    "                      'segment',\n",
    "                      'lineage_factor',\n",
    "                      'plantID'])\n",
    "\n",
    "pi = []\n",
    "temperature = []\n",
    "passage = []\n",
    "species = []\n",
    "segment = []\n",
    "lineage_factor = []\n",
    "plantID = []\n",
    "\n",
    "for key in pis.keys():\n",
    "    pi.append(pis[key][0])\n",
    "    passage.append(key[0])\n",
    "    temperature.append(key[1])\n",
    "    species.append(key[2])\n",
    "    segment.append(key[3])\n",
    "    lineage_factor.append(key[4])\n",
    "    plantID.append(key[5])\n",
    "    \n",
    "    \n",
    "pi_df.pi = pi\n",
    "pi_df.passage = passage\n",
    "pi_df.temperature = temperature\n",
    "pi_df.species = species\n",
    "pi_df.segment = segment\n",
    "pi_df.lineage_factor = lineage_factor\n",
    "pi_df.plantID = plantID        \n",
    "\n",
    "lm = sf.ols('pi ~ passage + temperature + (C(species)/C(segment)) + C(lineage_factor)',data=pi_df).fit(cov_type='HC1')\n",
    "print(\"Least squares summary:\")\n",
    "print(lm.summary2())"
   ]
  },
  {
   "cell_type": "markdown",
   "metadata": {},
   "source": [
    "Now plot data"
   ]
  },
  {
   "cell_type": "code",
   "execution_count": 26,
   "metadata": {},
   "outputs": [
    {
     "data": {
      "image/png": "[encoded data removed]",
      "text/plain": [
       "<Figure size 432x288 with 1 Axes>"
      ]
     },
     "metadata": {
      "needs_background": "light"
     },
     "output_type": "display_data"
    }
   ],
   "source": [
    "p = pi_df.boxplot(column='pi',\n",
    "             by=['passage','temperature'],\n",
    "             patch_artist=True,\n",
    "             grid=False,\n",
    "             return_type='dict')\n",
    "\n",
    "plt.ylabel('pi',fontsize=16)\n",
    "plt.xlabel('(passage,temperature)',fontsize=16)\n",
    "ylim = plt.ylim()\n",
    "\n",
    "plt.vlines(x=[2.5,4.5],ymin=ylim[0],ymax=ylim[1])\n",
    "plt.ylim(ylim)\n",
    "\n",
    "plt.xticks(fontsize=14)\n",
    "plt.suptitle('')\n",
    "plt.title('')\n",
    "\n",
    "for median in p[0]['medians']:\n",
    "    median.set_color('k')"
   ]
  },
  {
   "cell_type": "code",
   "execution_count": 27,
   "metadata": {},
   "outputs": [
    {
     "data": {
      "image/png": "[encoded data removed]",
      "text/plain": [
       "<Figure size 432x288 with 1 Axes>"
      ]
     },
     "metadata": {
      "needs_background": "light"
     },
     "output_type": "display_data"
    }
   ],
   "source": [
    "p = pi_df.boxplot(column='pi',\n",
    "             by=['passage','lineage_factor'],\n",
    "             patch_artist=True,\n",
    "             grid=False,\n",
    "             return_type='dict',\n",
    "             rot=30)\n",
    "\n",
    "plt.ylabel('pi',fontsize=16)\n",
    "plt.xlabel('(passage,lineage)',fontsize=16)\n",
    "ylim = plt.ylim()\n",
    "\n",
    "plt.xticks(fontsize=14,ha='right')\n",
    "plt.suptitle('')\n",
    "plt.title('')\n",
    "\n",
    "ylim = plt.ylim()\n",
    "\n",
    "plt.vlines(x=[5.5,11.5],ymin=ylim[0],ymax=ylim[1])\n",
    "plt.ylim(ylim)\n",
    "\n",
    "for median in p[0]['medians']:\n",
    "    median.set_color('k')"
   ]
  },
  {
   "cell_type": "code",
   "execution_count": 28,
   "metadata": {},
   "outputs": [
    {
     "data": {
      "image/png": "[encoded data removed]",
      "text/plain": [
       "<Figure size 432x288 with 1 Axes>"
      ]
     },
     "metadata": {
      "needs_background": "light"
     },
     "output_type": "display_data"
    }
   ],
   "source": [
    "p = pi_df.boxplot(column='pi',\n",
    "             by=['species','segment'],\n",
    "             patch_artist=True,\n",
    "             grid=False,\n",
    "             return_type='dict',\n",
    "             rot=30)\n",
    "\n",
    "plt.ylabel('pi',fontsize=16)\n",
    "plt.xlabel('',fontsize=16)\n",
    "ylim = plt.ylim()\n",
    "\n",
    "plt.vlines(x=[2.5],ymin=ylim[0],ymax=ylim[1])\n",
    "plt.ylim(ylim)\n",
    "\n",
    "plt.xticks([1,2,3,4],\n",
    "           ['ACMV DNA-A','ACMV DNA-B','EACMCV DNA-A','EACMCV DNA-B'],\n",
    "           fontsize=14,\n",
    "           ha='right')\n",
    "plt.suptitle('')\n",
    "plt.title('')\n",
    "\n",
    "for median in p[0]['medians']:\n",
    "    median.set_color('k')"
   ]
  },
  {
   "cell_type": "markdown",
   "metadata": {},
   "source": [
    "Looks like there is no great difference in averaging or aggregating technical replicate data."
   ]
  },
  {
   "cell_type": "code",
   "execution_count": 29,
   "metadata": {},
   "outputs": [],
   "source": [
    "def average_groups(data,columns):\n",
    "    \n",
    "    #this function groups the data by `columns` and aggregates other columns by \n",
    "    #    returning the mean of the rows within each group\n",
    "    averaged_data = data.groupby(by=columns).agg(np.mean)\n",
    "    \n",
    "    return averaged_data"
   ]
  },
  {
   "cell_type": "code",
   "execution_count": 33,
   "metadata": {},
   "outputs": [],
   "source": [
    "#average frequencies of identical variants across lineages within each group\n",
    "avg_data = average_groups(filtered_data,['species','segment','pos','alt','passage','ref'])\n",
    "\n",
    "#reset the index and retype position columns `pos` as integer\n",
    "avg_data.reset_index(inplace=True)\n",
    "avg_data['pos'] = avg_data.pos.astype(int)   \n",
    "\n",
    "#group the data by species, segment, and passage, then caculate pi for each group\n",
    "avg_data = avg_data.groupby(by=['species','segment','passage'])\n",
    "\n",
    "avg_pis = {}\n",
    "    \n",
    "for group in avg_data:\n",
    "    \n",
    "        try:\n",
    "            N_samples = int(group[1][options['coverage']].mean())\n",
    "        except:\n",
    "            N_samples = False\n",
    "              \n",
    "        avg_pis[group[0]] = pi(pi_data=group[1],\n",
    "            sites=(1, group[1][options['position']].max()),\n",
    "            N_samples=N_samples,\n",
    "            pos_id=options['position'],\n",
    "            Reference=options['reference'],\n",
    "            Alternate=options['alternate'],\n",
    "            frequency=options['frequency'],\n",
    "            correction=options['sizeCorrection'],\n",
    "            per_site=options['perSite'],\n",
    "            sampling_variance=options['sampling_variance'],\n",
    "            length=options['length'])\n",
    "\n",
    "#generate a dataframe from the group data (stored in `avg_data` keys) and pi values (stored in `avg_pis` values)\n",
    "avg_pi_df = pd.DataFrame(columns=['pi',\n",
    "                      'passage',\n",
    "                      'species',\n",
    "                      'segment'])\n",
    "\n",
    "pi = []\n",
    "passage = []\n",
    "species = []\n",
    "segment = []\n",
    "\n",
    "for key in avg_pis.keys():\n",
    "    pi.append(avg_pis[key][0])\n",
    "    passage.append(key[2])\n",
    "    species.append(key[0])\n",
    "    segment.append(key[1])    \n",
    "    \n",
    "avg_pi_df.pi = pi\n",
    "avg_pi_df.passage = passage\n",
    "avg_pi_df.species = species\n",
    "avg_pi_df.segment = segment        "
   ]
  },
  {
   "cell_type": "code",
   "execution_count": 34,
   "metadata": {},
   "outputs": [
    {
     "name": "stdout",
     "output_type": "stream",
     "text": [
      "Least squares summary:\n",
      "                            OLS Regression Results                            \n",
      "==============================================================================\n",
      "Dep. Variable:                     pi   R-squared:                       0.826\n",
      "Model:                            OLS   Adj. R-squared:                  0.726\n",
      "Method:                 Least Squares   F-statistic:                     15.38\n",
      "Date:                Tue, 16 Jun 2020   Prob (F-statistic):            0.00141\n",
      "Time:                        13:21:01   Log-Likelihood:                -32.115\n",
      "No. Observations:                  12   AIC:                             74.23\n",
      "Df Residuals:                       7   BIC:                             76.65\n",
      "Df Model:                           4                                         \n",
      "Covariance Type:                  HC1                                         \n",
      "=================================================================================================\n",
      "                                    coef    std err          z      P>|z|      [0.025      0.975]\n",
      "-------------------------------------------------------------------------------------------------\n",
      "Intercept                        -1.2505      4.211     -0.297      0.766      -9.503       7.002\n",
      "C(species)[T.1]                  -4.4393      2.944     -1.508      0.132     -10.210       1.332\n",
      "C(species)[0]:C(segment)[T.1]    -4.2891      4.497     -0.954      0.340     -13.102       4.524\n",
      "C(species)[1]:C(segment)[T.1]     1.1353      2.835      0.401      0.689      -4.420       6.691\n",
      "passage                           9.1154      1.465      6.223      0.000       6.244      11.987\n",
      "==============================================================================\n",
      "Omnibus:                        0.324   Durbin-Watson:                   2.808\n",
      "Prob(Omnibus):                  0.850   Jarque-Bera (JB):                0.449\n",
      "Skew:                           0.064   Prob(JB):                        0.799\n",
      "Kurtosis:                       2.061   Cond. No.                         10.2\n",
      "==============================================================================\n",
      "\n",
      "Warnings:\n",
      "[1] Standard Errors are heteroscedasticity robust (HC1)\n",
      "                        df      sum_sq     mean_sq          F    PR(>F)\n",
      "C(species)             1.0    8.586889    8.586889   0.413975  0.540456\n",
      "C(species):C(segment)  2.0   31.193224   15.596612   0.751914  0.506049\n",
      "passage                1.0  656.371567  656.371567  31.643723  0.000795\n",
      "Residual               7.0  145.197866   20.742552        NaN       NaN\n"
     ]
    },
    {
     "name": "stderr",
     "output_type": "stream",
     "text": [
      "C:\\Users\\Erik\\anaconda3\\lib\\site-packages\\scipy\\stats\\stats.py:1535: UserWarning: kurtosistest only valid for n>=20 ... continuing anyway, n=12\n",
      "  \"anyway, n=%i\" % int(n))\n"
     ]
    }
   ],
   "source": [
    "lm_avg = sf.ols('pi ~ passage + C(species)/C(segment)',data=avg_pi_df).fit(cov_type='HC1')\n",
    "print(\"Least squares summary:\")\n",
    "print(lm_avg.summary())\n",
    "\n",
    "table_avg = sm.stats.anova_lm(lm_avg)\n",
    "print(table)"
   ]
  },
  {
   "cell_type": "code",
   "execution_count": 35,
   "metadata": {},
   "outputs": [
    {
     "name": "stdout",
     "output_type": "stream",
     "text": [
      "Aggregated groups:\n",
      "C(species) explains \t 1.02% of variance\n",
      "C(species):C(segment) explains \t 3.71% of variance\n",
      "passage explains \t 78.01% of variance\n",
      "Residual explains \t 17.26% of variance\n",
      "\n",
      "Averaged groups:\n",
      "C(species) explains \t 1.05% of variance\n",
      "C(species):C(segment) explains \t 3.47% of variance\n",
      "passage explains \t 78.06% of variance\n",
      "Residual explains \t 17.42% of variance\n"
     ]
    }
   ],
   "source": [
    "print(\"Aggregated groups:\")\n",
    "for ind in table.index:\n",
    "    \n",
    "    print(\"{} explains \\t {:.2%} of variance\".format(ind,table.loc[ind,'sum_sq'] / table.sum_sq.sum()))\n",
    "\n",
    "print(\"\\nAveraged groups:\")\n",
    "for ind in table.index:\n",
    "    \n",
    "    print(\"{} explains \\t {:.2%} of variance\".format(ind,table_avg.loc[ind,'sum_sq'] / table_avg.sum_sq.sum()))"
   ]
  },
  {
   "cell_type": "markdown",
   "metadata": {},
   "source": [
    "### Looks there is not a great difference between averaging or aggregating technical replicate data."
   ]
  }
 ],
 "metadata": {
  "kernelspec": {
   "display_name": "Python 3",
   "language": "python",
   "name": "python3"
  },
  "language_info": {
   "codemirror_mode": {
    "name": "ipython",
    "version": 3
   },
   "file_extension": ".py",
   "mimetype": "text/x-python",
   "name": "python",
   "nbconvert_exporter": "python",
   "pygments_lexer": "ipython3",
   "version": "3.7.6"
  }
 },
 "nbformat": 4,
 "nbformat_minor": 4
}
