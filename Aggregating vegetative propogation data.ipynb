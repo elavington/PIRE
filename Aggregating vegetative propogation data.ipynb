{
 "cells": [
  {
   "cell_type": "markdown",
   "metadata": {},
   "source": [
    "\n",
    "# Aggregating vegetative propogation group data\n",
    "___"
   ]
  },
  {
   "cell_type": "markdown",
   "metadata": {},
   "source": [
    "Load the data."
   ]
  },
  {
   "cell_type": "code",
   "execution_count": 1,
   "metadata": {},
   "outputs": [],
   "source": [
    "import pandas as pd\n",
    "import numpy as np\n",
    "import statsmodels.api as sm\n",
    "import statsmodels.formula.api as sf\n",
    "import matplotlib.pyplot as plt"
   ]
  },
  {
   "cell_type": "code",
   "execution_count": 2,
   "metadata": {},
   "outputs": [],
   "source": [
    "from pi_for_temperature_notebook import *\n",
    "options = get_veg_prop_args()"
   ]
  },
  {
   "cell_type": "code",
   "execution_count": 3,
   "metadata": {},
   "outputs": [],
   "source": [
    "data = pd.read_csv(\"variant-calls_vegprop-expt_2020-04-07_tables.csv\",header=0,index_col=0)"
   ]
  },
  {
   "cell_type": "code",
   "execution_count": 39,
   "metadata": {},
   "outputs": [],
   "source": [
    "data_both_present = data.dropna(subset=['ADReplicateA','ADReplicateB'])\n",
    "filtered_data = pd.concat([data_both_present.loc[data_both_present.freqPropReplicateA >= 0.03],\n",
    "                           data_both_present.loc[data_both_present.freqPropReplicateB >= 0.03]]).drop_duplicates()"
   ]
  },
  {
   "cell_type": "code",
   "execution_count": 40,
   "metadata": {},
   "outputs": [],
   "source": [
    "#lineage: set to 0 then assign each unique lineage to an unique integer\n",
    "filtered_data['lineage_factor'] = 0\n",
    "j = 0\n",
    "for lineage in filtered_data.lineage.unique():\n",
    "    filtered_data.loc[filtered_data.lineage == lineage,['lineage_factor']] = j\n",
    "    j += 1\n",
    "\n",
    "#species: Set ACMV = 0 and EACMCV = 1\n",
    "filtered_data['species'] = 0\n",
    "filtered_data.loc[filtered_data.chrom == 'EACMCV DNA-A',['species']] = 1\n",
    "filtered_data.loc[filtered_data.chrom == 'EACMCV DNA-B',['species']] = 1\n",
    "\n",
    "#segment: Set DNA-A = 0 and DNA-B = 1\n",
    "filtered_data['segment'] = 0\n",
    "filtered_data.loc[filtered_data.chrom == 'ACMV DNA-B',['segment']] = 1\n",
    "filtered_data.loc[filtered_data.chrom == 'EACMCV DNA-B',['segment']] = 1\n",
    "\n",
    "#SEGs treatment: Virus Only:0, SEGS-1:1,SEGS-2:2\n",
    "filtered_data['SEGs_treatment'] = 0\n",
    "filtered_data.loc[filtered_data.segsTreatment2 == 'SEGS-1','SEGs_treatment'] = 1\n",
    "filtered_data.loc[filtered_data.segsTreatment2 == 'SEGS-2','SEGs_treatment'] = 2"
   ]
  },
  {
   "cell_type": "code",
   "execution_count": null,
   "metadata": {},
   "outputs": [],
   "source": [
    "agg_data = average_groups(filtered_data,['species','segment','pos','alt','passage','ref','lineage_factor','SEGs_treatment'])\n",
    "\n",
    "agg_data.reset_index(inplace=True)\n",
    "agg_data['pos'] = agg_data.pos.astype(int)"
   ]
  },
  {
   "cell_type": "code",
   "execution_count": null,
   "metadata": {},
   "outputs": [],
   "source": [
    "options['frequency'] = 'freqPropMeanNoNA'\n",
    "\n",
    "pi_df = get_group_pis(agg_data,\n",
    "                     options=options,\n",
    "                     group_by=['species','segment','passage','lineage_factor','SEGs_treatment'])\n",
    "\n",
    "lm = sf.ols('pi ~ passage + C(SEGs_treatment) + (C(species)/C(segment)) + C(lineage_factor)',data=pi_df).fit(cov_type='HC1')\n",
    "print(\"Least squares summary:\")\n",
    "print(lm.summary())\n",
    "\n",
    "print(\"\\nAnova table:\")\n",
    "table = sm.stats.anova_lm(lm)\n",
    "print(table)\n",
    "\n",
    "print()\n",
    "for ind in table.index:\n",
    "    \n",
    "    print(\"{} explains \\t {:.2%} of variance\".format(ind,table.loc[ind,'sum_sq'] / table.sum_sq.sum()))"
   ]
  },
  {
   "cell_type": "code",
   "execution_count": null,
   "metadata": {},
   "outputs": [],
   "source": [
    "p = pi_df.boxplot(column='pi',\n",
    "             by=['lineage_factor'],\n",
    "             patch_artist=True,\n",
    "             grid=False,\n",
    "             return_type='dict')\n",
    "\n",
    "plt.ylabel('pi',fontsize=16)\n",
    "plt.xlabel('lineage',fontsize=16)\n",
    "ylim = plt.ylim()\n",
    "\n",
    "plt.xticks(fontsize=14,ha='right')\n",
    "plt.suptitle('')\n",
    "plt.title('')\n",
    "\n",
    "ylim = plt.ylim()\n",
    "\n",
    "#plt.vlines(x=[3.5,6.5,9.5,12.5,15.5,18.5],ymin=ylim[0],ymax=ylim[1])\n",
    "#plt.ylim(ylim)\n",
    "\n",
    "for median in p[0]['medians']:\n",
    "    median.set_color('k')"
   ]
  },
  {
   "cell_type": "code",
   "execution_count": null,
   "metadata": {},
   "outputs": [],
   "source": [
    "p = pi_df.boxplot(column='pi',\n",
    "             by=['species','segment'],\n",
    "             patch_artist=True,\n",
    "             grid=False,\n",
    "             return_type='dict',\n",
    "             rot=30)\n",
    "\n",
    "plt.ylabel('pi',fontsize=16)\n",
    "plt.xlabel('',fontsize=16)\n",
    "ylim = plt.ylim()\n",
    "\n",
    "plt.vlines(x=[2.5],ymin=ylim[0],ymax=ylim[1])\n",
    "plt.ylim(ylim)\n",
    "\n",
    "plt.xticks([1,2,3,4],\n",
    "           ['ACMV DNA-A','ACMV DNA-B','EACMCV DNA-A','EACMCV DNA-B'],\n",
    "           fontsize=14,\n",
    "           ha='right')\n",
    "plt.suptitle('')\n",
    "plt.title('')\n",
    "\n",
    "for median in p[0]['medians']:\n",
    "    median.set_color('k')"
   ]
  },
  {
   "cell_type": "code",
   "execution_count": null,
   "metadata": {},
   "outputs": [],
   "source": [
    "agg_data = average_groups(filtered_data,\n",
    "                          ['species','segment','pos','alt','passage','ref','SEGs_treatment'])\n",
    "\n",
    "agg_data.reset_index(inplace=True)\n",
    "agg_data['pos'] = agg_data.pos.astype(int)\n",
    "\n",
    "options['frequency'] = 'freqPropMeanNoNA'\n",
    "\n",
    "#print(\"Number of variants\")"
   ]
  },
  {
   "cell_type": "code",
   "execution_count": null,
   "metadata": {},
   "outputs": [],
   "source": [
    "pi_df = get_group_pis(agg_data,\n",
    "                     options=options,\n",
    "                     group_by=['species','segment','passage','SEGs_treatment'])\n",
    "\n",
    "lm = sf.ols('pi ~ passage + C(SEGs_treatment) + C(species)/C(segment)',data=pi_df).fit(cov_type='HC1')\n",
    "print(\"Least squares summary:\")\n",
    "print(lm.summary())\n",
    "\n",
    "print(\"\\nAnova table:\")\n",
    "table = sm.stats.anova_lm(lm)\n",
    "print(table)\n",
    "    \n",
    "print(\"\\nEffect\\t\\t% var explained\")\n",
    "for ind in table.index:\n",
    "    \n",
    "    print(\"{} \\t\\t {:.2%}\".format(ind,table.loc[ind,'sum_sq'] / table.sum_sq.sum()))    "
   ]
  },
  {
   "cell_type": "code",
   "execution_count": null,
   "metadata": {},
   "outputs": [],
   "source": [
    "p = pi_df.boxplot(column='pi',\n",
    "             by=['passage','SEGs_treatment'],\n",
    "             patch_artist=True,\n",
    "             grid=False,\n",
    "             return_type='dict',\n",
    "             rot=30)\n",
    "\n",
    "plt.ylabel('pi',fontsize=16)\n",
    "plt.xlabel('(passage,SEGs_treatment)',fontsize=16)\n",
    "plt.xticks(ha='right')\n",
    "ylim = plt.ylim()\n",
    "\n",
    "plt.vlines(x=[3.5,6.5,9.5,12.5,15.5,18.5],ymin=ylim[0],ymax=ylim[1])\n",
    "plt.ylim(ylim)\n",
    "\n",
    "plt.xticks(fontsize=14)\n",
    "plt.suptitle('')\n",
    "plt.title('')\n",
    "\n",
    "for median in p[0]['medians']:\n",
    "    median.set_color('k')"
   ]
  },
  {
   "cell_type": "code",
   "execution_count": 53,
   "metadata": {},
   "outputs": [],
   "source": [
    "agg_data = average_groups(filtered_data,\n",
    "                          ['species','segment','pos','alt','passage','ref'])\n",
    "\n",
    "agg_data.reset_index(inplace=True)\n",
    "agg_data['pos'] = agg_data.pos.astype(int)\n",
    "\n",
    "options['frequency'] = 'freqPropMeanNoNA'"
   ]
  },
  {
   "cell_type": "code",
   "execution_count": 54,
   "metadata": {
    "scrolled": false
   },
   "outputs": [
    {
     "data": {
      "text/plain": [
       "'\\nlm = sf.ols(\\'pi ~ passage + C(species)/C(segment)\\',data=pi_df).fit(cov_type=\\'HC1\\')\\nprint(\"Least squares summary:\")\\nprint(lm.summary())\\n\\nprint(\"\\nAnova table:\")\\ntable = sm.stats.anova_lm(lm)\\nprint(table)\\n    \\nprint(\"\\nEffect\\t\\t% var explained\")\\nfor ind in table.index:\\n    \\n    print(\"{} \\t\\t {:.2%}\".format(ind,table.loc[ind,\\'sum_sq\\'] / table.sum_sq.sum()))\\n'"
      ]
     },
     "execution_count": 54,
     "metadata": {},
     "output_type": "execute_result"
    }
   ],
   "source": [
    "pi_df = get_group_pis(agg_data,\n",
    "                     options=options,\n",
    "                     group_by=['species','segment','passage'])\n",
    "\n",
    "\"\"\"\n",
    "lm = sf.ols('pi ~ passage + C(species)/C(segment)',data=pi_df).fit(cov_type='HC1')\n",
    "print(\"Least squares summary:\")\n",
    "print(lm.summary())\n",
    "\n",
    "print(\"\\nAnova table:\")\n",
    "table = sm.stats.anova_lm(lm)\n",
    "print(table)\n",
    "    \n",
    "print(\"\\nEffect\\t\\t% var explained\")\n",
    "for ind in table.index:\n",
    "    \n",
    "    print(\"{} \\t\\t {:.2%}\".format(ind,table.loc[ind,'sum_sq'] / table.sum_sq.sum()))\n",
    "\"\"\"    "
   ]
  },
  {
   "cell_type": "code",
   "execution_count": 44,
   "metadata": {},
   "outputs": [],
   "source": [
    "import statsmodels.api as sm\n",
    "import statsmodels.formula.api as sf\n",
    "from linearmodels import PanelOLS"
   ]
  },
  {
   "cell_type": "code",
   "execution_count": 55,
   "metadata": {},
   "outputs": [],
   "source": [
    "pi_df = pi_df.set_index(['passage','segment'])\n"
   ]
  },
  {
   "cell_type": "code",
   "execution_count": 57,
   "metadata": {},
   "outputs": [
    {
     "name": "stdout",
     "output_type": "stream",
     "text": [
      "                          PanelOLS Estimation Summary                           \n",
      "================================================================================\n",
      "Dep. Variable:                     pi   R-squared:                        0.1208\n",
      "Estimator:                   PanelOLS   R-squared (Between):              0.0000\n",
      "No. Observations:                  28   R-squared (Within):               0.1208\n",
      "Date:                Thu, Jun 18 2020   R-squared (Overall):              0.0544\n",
      "Time:                        19:23:54   Log-likelihood                   -98.250\n",
      "Cov. Estimator:                Robust                                           \n",
      "                                        F-statistic:                      2.7484\n",
      "Entities:                           7   P-value                           0.1130\n",
      "Avg Obs:                       4.0000   Distribution:                    F(1,20)\n",
      "Min Obs:                       4.0000                                           \n",
      "Max Obs:                       4.0000   F-statistic (robust):             2.7484\n",
      "                                        P-value                           0.1130\n",
      "Time periods:                       2   Distribution:                    F(1,20)\n",
      "Avg Obs:                       14.000                                           \n",
      "Min Obs:                       14.000                                           \n",
      "Max Obs:                       14.000                                           \n",
      "                                                                                \n",
      "                             Parameter Estimates                              \n",
      "==============================================================================\n",
      "            Parameter  Std. Err.     T-stat    P-value    Lower CI    Upper CI\n",
      "------------------------------------------------------------------------------\n",
      "const          26.017     2.4060     10.814     0.0000      20.999      31.036\n",
      "species        5.9942     3.6157     1.6578     0.1130     -1.5480      13.536\n",
      "==============================================================================\n",
      "\n",
      "F-test for Poolability: 4.6259\n",
      "P-value: 0.0042\n",
      "Distribution: F(6,20)\n",
      "\n",
      "Included effects: Entity\n"
     ]
    }
   ],
   "source": [
    "exog = sm.add_constant(pi_df[['species']])\n",
    "\n",
    "mod = PanelOLS(pi_df.pi,exog, entity_effects=True)\n",
    "\n",
    "panel_res = mod.fit(cov_type='robust')\n",
    "\n",
    "print(panel_res)"
   ]
  }
 ],
 "metadata": {
  "kernelspec": {
   "display_name": "Python 3",
   "language": "python",
   "name": "python3"
  },
  "language_info": {
   "codemirror_mode": {
    "name": "ipython",
    "version": 3
   },
   "file_extension": ".py",
   "mimetype": "text/x-python",
   "name": "python",
   "nbconvert_exporter": "python",
   "pygments_lexer": "ipython3",
   "version": "3.7.4"
  }
 },
 "nbformat": 4,
 "nbformat_minor": 4
}
