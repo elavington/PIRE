{
 "cells": [
  {
   "cell_type": "markdown",
   "metadata": {},
   "source": [
    "\n",
    "# Aggregating vs averaging variant frequencies within groups\n",
    "___"
   ]
  },
  {
   "cell_type": "markdown",
   "metadata": {},
   "source": [
    "Load necessary packages and temperature experiment data file "
   ]
  },
  {
   "cell_type": "code",
   "execution_count": 1,
   "metadata": {},
   "outputs": [],
   "source": [
    "import pandas as pd\n",
    "import numpy as np\n",
    "import statsmodels.api as sm\n",
    "import statsmodels.formula.api as sf\n",
    "import matplotlib.pyplot as plt"
   ]
  },
  {
   "cell_type": "code",
   "execution_count": 2,
   "metadata": {},
   "outputs": [],
   "source": [
    "from pi_for_temperature_notebook import *"
   ]
  },
  {
   "cell_type": "code",
   "execution_count": 3,
   "metadata": {},
   "outputs": [
    {
     "name": "stderr",
     "output_type": "stream",
     "text": [
      "C:\\ProgramData\\Anaconda3\\lib\\site-packages\\IPython\\core\\interactiveshell.py:3063: DtypeWarning: Columns (9,58) have mixed types.Specify dtype option on import or set low_memory=False.\n",
      "  interactivity=interactivity, compiler=compiler, result=result)\n"
     ]
    }
   ],
   "source": [
    "data = pd.read_csv(\"variant-calls_temperature-expt_2020-04-07_tables.csv\", header=0, index_col=0)"
   ]
  },
  {
   "cell_type": "markdown",
   "metadata": {},
   "source": [
    "The above errors can be ignored because they arise from 32$ ^{o} $ data, which we will filter out. Also filter out variants that are represented in only one technical replicate, as well as variants that do not have a frequency of 3% or more in at least one technical replicate."
   ]
  },
  {
   "cell_type": "code",
   "execution_count": 4,
   "metadata": {},
   "outputs": [],
   "source": [
    "data_no_32 = data.loc[data.temperature != 32]\n",
    "data_no_32_both_present = data_no_32.dropna(subset=['ADReplicateA','ADReplicateB'])\n",
    "filtered_data = pd.concat([data_no_32_both_present.loc[data_no_32_both_present.freqPropReplicateA >= 0.03],\n",
    "                           data_no_32_both_present.loc[data_no_32_both_present.freqPropReplicateB >= 0.03]]).drop_duplicates()\n"
   ]
  },
  {
   "cell_type": "markdown",
   "metadata": {},
   "source": [
    "Previous analyses has shown a tight correlation between technical replicates, as expected by the manner of the replication. Aggregate technical replicate read counts to get a single variant frequency for each sequence variant."
   ]
  },
  {
   "cell_type": "code",
   "execution_count": 5,
   "metadata": {},
   "outputs": [],
   "source": [
    "#set new DP and AD columns with aggregate of Replicate RD and AD values\n",
    "#This aggregates only counts of reads that passed VarScan filters \n",
    "filtered_data['DP'] = filtered_data['ADReplicateA'] + filtered_data['ADReplicateB'] +filtered_data['RDReplicateA'] + filtered_data['RDReplicateB']\n",
    "filtered_data['AD'] = filtered_data['ADReplicateA'] + filtered_data['ADReplicateB']\n",
    "\n",
    "#calculate frequency of aggregated read counts\n",
    "filtered_data['freqProp'] = filtered_data['AD'] / filtered_data['DP']\n"
   ]
  },
  {
   "cell_type": "markdown",
   "metadata": {},
   "source": [
    "Add factor data for lineage, species, and segment (for DNA-A and DNA-B segment designations)"
   ]
  },
  {
   "cell_type": "code",
   "execution_count": 6,
   "metadata": {},
   "outputs": [],
   "source": [
    "#lineage: set to 0 then assign each unique lineage to an unique integer\n",
    "filtered_data['lineage_factor'] = 0\n",
    "j = 0\n",
    "for lineage in filtered_data.lineage.unique():\n",
    "    filtered_data.loc[filtered_data.lineage == lineage,['lineage_factor']] = j\n",
    "    j += 1\n",
    "\n",
    "#species: Set ACMV = 0 and EACMCV = 1\n",
    "filtered_data['species'] = 0\n",
    "filtered_data.loc[filtered_data.chrom == 'EACMCV DNA-A',['species']] = 1\n",
    "filtered_data.loc[filtered_data.chrom == 'EACMCV DNA-B',['species']] = 1\n",
    "\n",
    "#segment: Set DNA-A = 0 and DNA-B = 1\n",
    "filtered_data['segment'] = 0\n",
    "filtered_data.loc[filtered_data.chrom == 'ACMV DNA-B',['segment']] = 1\n",
    "filtered_data.loc[filtered_data.chrom == 'EACMCV DNA-B',['segment']] = 1\n"
   ]
  },
  {
   "cell_type": "markdown",
   "metadata": {},
   "source": [
    "Load the options for calculation of pi then print them out."
   ]
  },
  {
   "cell_type": "code",
   "execution_count": 7,
   "metadata": {},
   "outputs": [],
   "source": [
    "options = get_temp_args()\n",
    "#set new values for options as necessary\n",
    "options['coverage'] = 'DP'\n",
    "options['perSite'] = False"
   ]
  },
  {
   "cell_type": "code",
   "execution_count": 8,
   "metadata": {},
   "outputs": [],
   "source": [
    "pis = {}\n",
    "\n",
    "pi_df = get_group_pis(filtered_data,\n",
    "                     options=options,\n",
    "                     group_by=['passage','temperature','species','segment','lineage_factor','plantID'])"
   ]
  },
  {
   "cell_type": "code",
   "execution_count": 9,
   "metadata": {},
   "outputs": [
    {
     "name": "stdout",
     "output_type": "stream",
     "text": [
      "Least squares summary:\n",
      "                      Results: Ordinary least squares\n",
      "============================================================================\n",
      "Model:                   OLS                 Adj. R-squared:        0.299   \n",
      "Dependent Variable:      pi                  AIC:                   267.5619\n",
      "Date:                    2020-06-18 16:04    BIC:                   289.6088\n",
      "No. Observations:        67                  Log-Likelihood:        -123.78 \n",
      "Df Model:                9                   F-statistic:           32.79   \n",
      "Df Residuals:            57                  Prob (F-statistic):    4.74e-20\n",
      "R-squared:               0.394               Scale:                 2.7696  \n",
      "----------------------------------------------------------------------------\n",
      "                               Coef.  Std.Err.    z    P>|z|   [0.025 0.975]\n",
      "----------------------------------------------------------------------------\n",
      "Intercept                     -0.0178   0.1026 -0.1734 0.8623 -0.2188 0.1833\n",
      "C(species)[T.1]               -0.6899   0.6951 -0.9926 0.3209 -2.0522 0.6724\n",
      "C(lineage_factor)[T.1]         0.1743   0.4519  0.3858 0.6996 -0.7113 1.0600\n",
      "C(lineage_factor)[T.2]        -0.2620   0.4495 -0.5829 0.5600 -1.1430 0.6190\n",
      "C(lineage_factor)[T.3]         0.7813   1.0043  0.7780 0.4366 -1.1870 2.7496\n",
      "C(lineage_factor)[T.4]        -0.3696   0.4570 -0.8088 0.4187 -1.2653 0.5261\n",
      "C(lineage_factor)[T.5]        -0.1571   0.6079 -0.2584 0.7961 -1.3485 1.0343\n",
      "C(species)[0]:C(segment)[T.1] -0.9250   0.6035 -1.5326 0.1254 -2.1079 0.2579\n",
      "C(species)[1]:C(segment)[T.1]  0.2702   0.5622  0.4806 0.6308 -0.8318 1.3722\n",
      "passage                        1.4056   0.2727  5.1543 0.0000  0.8711 1.9400\n",
      "temperature                    0.0112   0.0221  0.5073 0.6120 -0.0322 0.0546\n",
      "----------------------------------------------------------------------------\n",
      "Omnibus:             28.403       Durbin-Watson:          1.716             \n",
      "Prob(Omnibus):       0.000        Jarque-Bera (JB):       63.399            \n",
      "Skew:                1.359        Prob(JB):               0.000             \n",
      "Kurtosis:            6.915        Condition No.:          222260420492693504\n",
      "============================================================================\n",
      "* The condition number is large (2e+17). This might indicate\n",
      "strong multicollinearity or other numerical problems.\n"
     ]
    }
   ],
   "source": [
    "lm = sf.ols('pi ~ passage + temperature + (C(species)/C(segment)) + C(lineage_factor)',data=pi_df).fit(cov_type='HC1')\n",
    "print(\"Least squares summary:\")\n",
    "print(lm.summary2())"
   ]
  },
  {
   "cell_type": "markdown",
   "metadata": {},
   "source": [
    "There is strong multicollinearity in the model. Let's inspect a few variables"
   ]
  },
  {
   "cell_type": "code",
   "execution_count": 10,
   "metadata": {},
   "outputs": [
    {
     "data": {
      "image/png": "[encoded data removed]",
      "text/plain": [
       "<Figure size 432x288 with 1 Axes>"
      ]
     },
     "metadata": {
      "needs_background": "light"
     },
     "output_type": "display_data"
    }
   ],
   "source": [
    "p = pi_df.boxplot(column='pi',\n",
    "             by=['passage','temperature'],\n",
    "             patch_artist=True,\n",
    "             grid=False,\n",
    "             return_type='dict')\n",
    "\n",
    "plt.ylabel('pi',fontsize=16)\n",
    "plt.xlabel('(passage,temperature)',fontsize=16)\n",
    "ylim = plt.ylim()\n",
    "\n",
    "plt.vlines(x=[2.5,4.5],ymin=ylim[0],ymax=ylim[1])\n",
    "plt.ylim(ylim)\n",
    "\n",
    "plt.xticks(fontsize=14)\n",
    "plt.suptitle('')\n",
    "plt.title('')\n",
    "\n",
    "for median in p[0]['medians']:\n",
    "    median.set_color('k')"
   ]
  },
  {
   "cell_type": "markdown",
   "metadata": {},
   "source": [
    "Looks like we could omit temperature from the model."
   ]
  },
  {
   "cell_type": "code",
   "execution_count": 11,
   "metadata": {},
   "outputs": [
    {
     "data": {
      "image/png": "[encoded data removed]",
      "text/plain": [
       "<Figure size 432x288 with 1 Axes>"
      ]
     },
     "metadata": {
      "needs_background": "light"
     },
     "output_type": "display_data"
    }
   ],
   "source": [
    "p = pi_df.boxplot(column='pi',\n",
    "             by=['passage','lineage_factor'],\n",
    "             patch_artist=True,\n",
    "             grid=False,\n",
    "             return_type='dict',\n",
    "             rot=30)\n",
    "\n",
    "plt.ylabel('pi',fontsize=16)\n",
    "plt.xlabel('(passage,lineage)',fontsize=16)\n",
    "ylim = plt.ylim()\n",
    "\n",
    "plt.xticks(fontsize=14,ha='right')\n",
    "plt.suptitle('')\n",
    "plt.title('')\n",
    "\n",
    "ylim = plt.ylim()\n",
    "\n",
    "plt.vlines(x=[5.5,11.5],ymin=ylim[0],ymax=ylim[1])\n",
    "plt.ylim(ylim)\n",
    "\n",
    "for median in p[0]['medians']:\n",
    "    median.set_color('k')"
   ]
  },
  {
   "cell_type": "markdown",
   "metadata": {},
   "source": [
    "Looks like we can onit lineage from the model as well."
   ]
  },
  {
   "cell_type": "code",
   "execution_count": 12,
   "metadata": {},
   "outputs": [
    {
     "data": {
      "image/png": "[encoded data removed]",
      "text/plain": [
       "<Figure size 432x288 with 1 Axes>"
      ]
     },
     "metadata": {
      "needs_background": "light"
     },
     "output_type": "display_data"
    }
   ],
   "source": [
    "p = pi_df.boxplot(column='pi',\n",
    "             by=['species','segment'],\n",
    "             patch_artist=True,\n",
    "             grid=False,\n",
    "             return_type='dict',\n",
    "             rot=30)\n",
    "\n",
    "plt.ylabel('pi',fontsize=16)\n",
    "plt.xlabel('',fontsize=16)\n",
    "ylim = plt.ylim()\n",
    "\n",
    "plt.vlines(x=[2.5],ymin=ylim[0],ymax=ylim[1])\n",
    "plt.ylim(ylim)\n",
    "\n",
    "plt.xticks([1,2,3,4],\n",
    "           ['ACMV DNA-A','ACMV DNA-B','EACMCV DNA-A','EACMCV DNA-B'],\n",
    "           fontsize=14,\n",
    "           ha='right')\n",
    "plt.suptitle('')\n",
    "plt.title('')\n",
    "\n",
    "for median in p[0]['medians']:\n",
    "    median.set_color('k')"
   ]
  },
  {
   "cell_type": "markdown",
   "metadata": {},
   "source": [
    "Let's remove temperature and lineage from the model"
   ]
  },
  {
   "cell_type": "code",
   "execution_count": 13,
   "metadata": {},
   "outputs": [
    {
     "name": "stdout",
     "output_type": "stream",
     "text": [
      "Least squares summary:\n",
      "                            OLS Regression Results                            \n",
      "==============================================================================\n",
      "Dep. Variable:                     pi   R-squared:                       0.357\n",
      "Model:                            OLS   Adj. R-squared:                  0.315\n",
      "Method:                 Least Squares   F-statistic:                     10.05\n",
      "Date:                Thu, 18 Jun 2020   Prob (F-statistic):           2.46e-06\n",
      "Time:                        16:04:44   Log-Likelihood:                -125.79\n",
      "No. Observations:                  67   AIC:                             261.6\n",
      "Df Residuals:                      62   BIC:                             272.6\n",
      "Df Model:                           4                                         \n",
      "Covariance Type:                  HC1                                         \n",
      "=================================================================================================\n",
      "                                    coef    std err          z      P>|z|      [0.025      0.975]\n",
      "-------------------------------------------------------------------------------------------------\n",
      "Intercept                         0.2931      0.550      0.533      0.594      -0.784       1.370\n",
      "C(species)[T.1]                  -0.6426      0.705     -0.911      0.362      -2.025       0.739\n",
      "C(species)[0]:C(segment)[T.1]    -0.8776      0.569     -1.542      0.123      -1.993       0.238\n",
      "C(species)[1]:C(segment)[T.1]     0.2702      0.569      0.475      0.635      -0.844       1.385\n",
      "passage                           1.4082      0.265      5.305      0.000       0.888       1.928\n",
      "==============================================================================\n",
      "Omnibus:                       43.731   Durbin-Watson:                   1.791\n",
      "Prob(Omnibus):                  0.000   Jarque-Bera (JB):              151.556\n",
      "Skew:                           1.952   Prob(JB):                     1.23e-33\n",
      "Kurtosis:                       9.249   Cond. No.                         10.8\n",
      "==============================================================================\n",
      "\n",
      "Warnings:\n",
      "[1] Standard Errors are heteroscedasticity robust (HC1)\n"
     ]
    }
   ],
   "source": [
    "lm = sf.ols('pi ~ passage + (C(species)/C(segment)) ',data=pi_df).fit(cov_type='HC1')\n",
    "print(\"Least squares summary:\")\n",
    "print(lm.summary())"
   ]
  },
  {
   "cell_type": "markdown",
   "metadata": {},
   "source": [
    "Looks like a moderate improvement gained by reducing variables. Let's aggregate the data to reduce noise."
   ]
  },
  {
   "cell_type": "code",
   "execution_count": 14,
   "metadata": {},
   "outputs": [],
   "source": [
    "agg_data = aggregate_groups(filtered_data,['species','segment','pos','alt','passage','ref'])\n",
    "\n",
    "agg_data.reset_index(inplace=True)\n",
    "agg_data['pos'] = agg_data.pos.astype(int)   "
   ]
  },
  {
   "cell_type": "code",
   "execution_count": 15,
   "metadata": {},
   "outputs": [],
   "source": [
    "pi_df = get_group_pis(agg_data,\n",
    "                     options=options,\n",
    "                     group_by=['species','segment','passage'])"
   ]
  },
  {
   "cell_type": "code",
   "execution_count": 16,
   "metadata": {},
   "outputs": [
    {
     "name": "stdout",
     "output_type": "stream",
     "text": [
      "Least squares summary:\n",
      "                            OLS Regression Results                            \n",
      "==============================================================================\n",
      "Dep. Variable:                     pi   R-squared:                       0.822\n",
      "Model:                            OLS   Adj. R-squared:                  0.720\n",
      "Method:                 Least Squares   F-statistic:                     15.01\n",
      "Date:                Thu, 18 Jun 2020   Prob (F-statistic):            0.00152\n",
      "Time:                        16:04:51   Log-Likelihood:                -32.232\n",
      "No. Observations:                  12   AIC:                             74.46\n",
      "Df Residuals:                       7   BIC:                             76.89\n",
      "Df Model:                           4                                         \n",
      "Covariance Type:                  HC1                                         \n",
      "=================================================================================================\n",
      "                                    coef    std err          z      P>|z|      [0.025      0.975]\n",
      "-------------------------------------------------------------------------------------------------\n",
      "Intercept                        -0.9906      4.329     -0.229      0.819      -9.476       7.495\n",
      "C(species)[T.1]                  -4.4768      2.970     -1.508      0.132     -10.297       1.343\n",
      "C(species)[0]:C(segment)[T.1]    -4.4462      4.516     -0.985      0.325     -13.297       4.404\n",
      "C(species)[1]:C(segment)[T.1]     1.2652      2.902      0.436      0.663      -4.422       6.952\n",
      "passage                           9.0654      1.485      6.106      0.000       6.156      11.975\n",
      "==============================================================================\n",
      "Omnibus:                        0.428   Durbin-Watson:                   2.781\n",
      "Prob(Omnibus):                  0.807   Jarque-Bera (JB):                0.491\n",
      "Skew:                           0.051   Prob(JB):                        0.782\n",
      "Kurtosis:                       2.014   Cond. No.                         10.2\n",
      "==============================================================================\n",
      "\n",
      "Warnings:\n",
      "[1] Standard Errors are heteroscedasticity robust (HC1)\n",
      "\n",
      "Anova table:\n",
      "                        df      sum_sq     mean_sq          F    PR(>F)\n",
      "C(species)             1.0    7.883727    7.883727   0.364859  0.564874\n",
      "C(species):C(segment)  2.0   32.053716   16.026858   0.741723  0.510317\n",
      "passage                1.0  657.457077  657.457077  30.427132  0.000891\n",
      "Residual               7.0  151.253150   21.607593        NaN       NaN\n",
      "\n",
      "\n",
      "C(species) explains \t 0.93% of variance\n",
      "C(species):C(segment) explains \t 3.78% of variance\n",
      "passage explains \t 77.47% of variance\n",
      "Residual explains \t 17.82% of variance\n"
     ]
    },
    {
     "name": "stderr",
     "output_type": "stream",
     "text": [
      "C:\\ProgramData\\Anaconda3\\lib\\site-packages\\scipy\\stats\\stats.py:1450: UserWarning: kurtosistest only valid for n>=20 ... continuing anyway, n=12\n",
      "  \"anyway, n=%i\" % int(n))\n"
     ]
    }
   ],
   "source": [
    "lm = sf.ols('pi ~ passage + C(species)/C(segment)',data=pi_df).fit(cov_type='HC1')\n",
    "print(\"Least squares summary:\")\n",
    "print(lm.summary())\n",
    "\n",
    "print(\"\\nAnova table:\")\n",
    "table = sm.stats.anova_lm(lm)\n",
    "print(table)\n",
    "print(\"\\n\")\n",
    "for ind in table.index:\n",
    "    \n",
    "    print(\"{} explains \\t {:.2%} of variance\".format(ind,table.loc[ind,'sum_sq'] / table.sum_sq.sum()))"
   ]
  },
  {
   "cell_type": "markdown",
   "metadata": {},
   "source": [
    "### Now let's look at averaging pi within groups"
   ]
  },
  {
   "cell_type": "markdown",
   "metadata": {},
   "source": [
    "Let's start with the raw data again, and use the mean between technical replicates as a single frequency per variant. `freqPropMeanNoNA` already exists as the mean of ReplicateA and ReplicateB frequencies, so we can use `filtered_data` as-is. We'll first calculate pi from the average values and inspect the analysis results."
   ]
  },
  {
   "cell_type": "code",
   "execution_count": 17,
   "metadata": {},
   "outputs": [
    {
     "name": "stdout",
     "output_type": "stream",
     "text": [
      "Least squares summary:\n",
      "                            OLS Regression Results                            \n",
      "==============================================================================\n",
      "Dep. Variable:                     pi   R-squared:                       0.394\n",
      "Model:                            OLS   Adj. R-squared:                  0.299\n",
      "Method:                 Least Squares   F-statistic:                     32.82\n",
      "Date:                Thu, 18 Jun 2020   Prob (F-statistic):           4.65e-20\n",
      "Time:                        16:05:01   Log-Likelihood:                -123.72\n",
      "No. Observations:                  67   AIC:                             267.4\n",
      "Df Residuals:                      57   BIC:                             289.5\n",
      "Df Model:                           9                                         \n",
      "Covariance Type:                  HC1                                         \n",
      "=================================================================================================\n",
      "                                    coef    std err          z      P>|z|      [0.025      0.975]\n",
      "-------------------------------------------------------------------------------------------------\n",
      "Intercept                        -0.0176      0.102     -0.171      0.864      -0.218       0.183\n",
      "C(species)[T.1]                  -0.6885      0.694     -0.992      0.321      -2.049       0.672\n",
      "C(lineage_factor)[T.1]            0.1712      0.452      0.379      0.705      -0.714       1.057\n",
      "C(lineage_factor)[T.2]           -0.2619      0.449     -0.584      0.559      -1.142       0.618\n",
      "C(lineage_factor)[T.3]            0.7789      1.004      0.776      0.438      -1.188       2.746\n",
      "C(lineage_factor)[T.4]           -0.3697      0.456     -0.810      0.418      -1.264       0.525\n",
      "C(lineage_factor)[T.5]           -0.1576      0.606     -0.260      0.795      -1.346       1.031\n",
      "C(species)[0]:C(segment)[T.1]    -0.9254      0.601     -1.539      0.124      -2.104       0.253\n",
      "C(species)[1]:C(segment)[T.1]     0.2665      0.563      0.473      0.636      -0.837       1.370\n",
      "passage                           1.4043      0.273      5.153      0.000       0.870       1.938\n",
      "temperature                       0.0112      0.022      0.506      0.613      -0.032       0.055\n",
      "==============================================================================\n",
      "Omnibus:                       28.659   Durbin-Watson:                   1.718\n",
      "Prob(Omnibus):                  0.000   Jarque-Bera (JB):               64.582\n",
      "Skew:                           1.367   Prob(JB):                     9.47e-15\n",
      "Kurtosis:                       6.957   Cond. No.                     2.22e+17\n",
      "==============================================================================\n",
      "\n",
      "Warnings:\n",
      "[1] Standard Errors are heteroscedasticity robust (HC1)\n",
      "[2] The smallest eigenvalue is 1.14e-30. This might indicate that there are\n",
      "strong multicollinearity problems or that the design matrix is singular.\n"
     ]
    }
   ],
   "source": [
    "#set the frequency for column name of the mean of the replicates\n",
    "options['frequency'] = 'freqPropMeanNoNA'\n",
    "\n",
    "pi_df = get_group_pis(filtered_data,\n",
    "                     options=options,\n",
    "                     group_by=['passage','temperature','species','segment','lineage_factor','plantID'])\n",
    "\n",
    "lm = sf.ols('pi ~ passage + temperature + (C(species)/C(segment)) + C(lineage_factor)',data=pi_df).fit(cov_type='HC1')\n",
    "print(\"Least squares summary:\")\n",
    "print(lm.summary())"
   ]
  },
  {
   "cell_type": "markdown",
   "metadata": {},
   "source": [
    "Now plot data"
   ]
  },
  {
   "cell_type": "code",
   "execution_count": 18,
   "metadata": {},
   "outputs": [
    {
     "data": {
      "image/png": "[encoded data removed]",
      "text/plain": [
       "<Figure size 432x288 with 1 Axes>"
      ]
     },
     "metadata": {
      "needs_background": "light"
     },
     "output_type": "display_data"
    }
   ],
   "source": [
    "p = pi_df.boxplot(column='pi',\n",
    "             by=['passage','temperature'],\n",
    "             patch_artist=True,\n",
    "             grid=False,\n",
    "             return_type='dict')\n",
    "\n",
    "plt.ylabel('pi',fontsize=16)\n",
    "plt.xlabel('(passage,temperature)',fontsize=16)\n",
    "ylim = plt.ylim()\n",
    "\n",
    "plt.vlines(x=[2.5,4.5],ymin=ylim[0],ymax=ylim[1])\n",
    "plt.ylim(ylim)\n",
    "\n",
    "plt.xticks(fontsize=14)\n",
    "plt.suptitle('')\n",
    "plt.title('')\n",
    "\n",
    "for median in p[0]['medians']:\n",
    "    median.set_color('k')"
   ]
  },
  {
   "cell_type": "code",
   "execution_count": 19,
   "metadata": {},
   "outputs": [
    {
     "data": {
      "image/png": "[encoded data removed]",
      "text/plain": [
       "<Figure size 432x288 with 1 Axes>"
      ]
     },
     "metadata": {
      "needs_background": "light"
     },
     "output_type": "display_data"
    }
   ],
   "source": [
    "p = pi_df.boxplot(column='pi',\n",
    "             by=['passage','lineage_factor'],\n",
    "             patch_artist=True,\n",
    "             grid=False,\n",
    "             return_type='dict',\n",
    "             rot=30)\n",
    "\n",
    "plt.ylabel('pi',fontsize=16)\n",
    "plt.xlabel('(passage,lineage)',fontsize=16)\n",
    "ylim = plt.ylim()\n",
    "\n",
    "plt.xticks(fontsize=14,ha='right')\n",
    "plt.suptitle('')\n",
    "plt.title('')\n",
    "\n",
    "ylim = plt.ylim()\n",
    "\n",
    "plt.vlines(x=[5.5,11.5],ymin=ylim[0],ymax=ylim[1])\n",
    "plt.ylim(ylim)\n",
    "\n",
    "for median in p[0]['medians']:\n",
    "    median.set_color('k')"
   ]
  },
  {
   "cell_type": "code",
   "execution_count": 20,
   "metadata": {},
   "outputs": [
    {
     "data": {
      "image/png": "[encoded data removed]",
      "text/plain": [
       "<Figure size 432x288 with 1 Axes>"
      ]
     },
     "metadata": {
      "needs_background": "light"
     },
     "output_type": "display_data"
    }
   ],
   "source": [
    "p = pi_df.boxplot(column='pi',\n",
    "             by=['species','segment'],\n",
    "             patch_artist=True,\n",
    "             grid=False,\n",
    "             return_type='dict',\n",
    "             rot=30)\n",
    "\n",
    "plt.ylabel('pi',fontsize=16)\n",
    "plt.xlabel('',fontsize=16)\n",
    "ylim = plt.ylim()\n",
    "\n",
    "plt.vlines(x=[2.5],ymin=ylim[0],ymax=ylim[1])\n",
    "plt.ylim(ylim)\n",
    "\n",
    "plt.xticks([1,2,3,4],\n",
    "           ['ACMV DNA-A','ACMV DNA-B','EACMCV DNA-A','EACMCV DNA-B'],\n",
    "           fontsize=14,\n",
    "           ha='right')\n",
    "plt.suptitle('')\n",
    "plt.title('')\n",
    "\n",
    "for median in p[0]['medians']:\n",
    "    median.set_color('k')"
   ]
  },
  {
   "cell_type": "markdown",
   "metadata": {},
   "source": [
    "Looks like there is no great difference in averaging or aggregating technical replicate data."
   ]
  },
  {
   "cell_type": "code",
   "execution_count": 25,
   "metadata": {},
   "outputs": [],
   "source": [
    "avg_data = average_groups(filtered_data,['species','segment','pos','alt','passage','ref'])\n",
    "\n",
    "avg_data.reset_index(inplace=True)\n",
    "avg_data['pos'] = avg_data.pos.astype(int)   \n",
    "\n",
    "\n",
    "avg_pi_df = get_group_pis(agg_data,\n",
    "                     options=options,\n",
    "                     group_by=['species','segment','passage'])"
   ]
  },
  {
   "cell_type": "code",
   "execution_count": 26,
   "metadata": {},
   "outputs": [
    {
     "name": "stdout",
     "output_type": "stream",
     "text": [
      "Least squares summary:\n",
      "                            OLS Regression Results                            \n",
      "==============================================================================\n",
      "Dep. Variable:                     pi   R-squared:                       0.806\n",
      "Model:                            OLS   Adj. R-squared:                  0.695\n",
      "Method:                 Least Squares   F-statistic:                     11.37\n",
      "Date:                Thu, 18 Jun 2020   Prob (F-statistic):            0.00350\n",
      "Time:                        16:06:11   Log-Likelihood:                -32.610\n",
      "No. Observations:                  12   AIC:                             75.22\n",
      "Df Residuals:                       7   BIC:                             77.64\n",
      "Df Model:                           4                                         \n",
      "Covariance Type:                  HC1                                         \n",
      "=================================================================================================\n",
      "                                    coef    std err          z      P>|z|      [0.025      0.975]\n",
      "-------------------------------------------------------------------------------------------------\n",
      "Intercept                        -0.6967      4.452     -0.157      0.876      -9.422       8.029\n",
      "C(species)[T.1]                  -3.4330      3.063     -1.121      0.262      -9.437       2.571\n",
      "C(species)[0]:C(segment)[T.1]    -4.5116      4.698     -0.960      0.337     -13.719       4.695\n",
      "C(species)[1]:C(segment)[T.1]     1.0775      2.935      0.367      0.714      -4.676       6.831\n",
      "passage                           8.9078      1.585      5.620      0.000       5.801      12.014\n",
      "==============================================================================\n",
      "Omnibus:                        0.388   Durbin-Watson:                   2.667\n",
      "Prob(Omnibus):                  0.824   Jarque-Bera (JB):                0.475\n",
      "Skew:                           0.044   Prob(JB):                        0.789\n",
      "Kurtosis:                       2.029   Cond. No.                         10.2\n",
      "==============================================================================\n",
      "\n",
      "Warnings:\n",
      "[1] Standard Errors are heteroscedasticity robust (HC1)\n",
      "\n",
      "Anova table:\n",
      "                        df      sum_sq     mean_sq          F    PR(>F)\n",
      "C(species)             1.0    7.883727    7.883727   0.364859  0.564874\n",
      "C(species):C(segment)  2.0   32.053716   16.026858   0.741723  0.510317\n",
      "passage                1.0  657.457077  657.457077  30.427132  0.000891\n",
      "Residual               7.0  151.253150   21.607593        NaN       NaN\n"
     ]
    },
    {
     "name": "stderr",
     "output_type": "stream",
     "text": [
      "C:\\ProgramData\\Anaconda3\\lib\\site-packages\\scipy\\stats\\stats.py:1450: UserWarning: kurtosistest only valid for n>=20 ... continuing anyway, n=12\n",
      "  \"anyway, n=%i\" % int(n))\n"
     ]
    }
   ],
   "source": [
    "lm_avg = sf.ols('pi ~ passage + C(species)/C(segment)',data=avg_pi_df).fit(cov_type='HC1')\n",
    "print(\"Least squares summary:\")\n",
    "print(lm_avg.summary())\n",
    "\n",
    "print(\"\\nAnova table:\")\n",
    "table_avg = sm.stats.anova_lm(lm_avg)\n",
    "print(table)"
   ]
  },
  {
   "cell_type": "code",
   "execution_count": 27,
   "metadata": {
    "scrolled": true
   },
   "outputs": [
    {
     "name": "stdout",
     "output_type": "stream",
     "text": [
      "Aggregated groups:\n",
      "C(species) \t\t 0.93% of variance\n",
      "C(species):C(segment) \t\t 3.78% of variance\n",
      "passage \t\t 77.47% of variance\n",
      "Residual \t\t 17.82% of variance\n",
      "\n",
      "Averaged groups:\n",
      "C(species) \t\t 0.15% of variance\n",
      "C(species):C(segment) \t\t 3.89% of variance\n",
      "passage \t\t 76.54% of variance\n",
      "Residual \t\t 19.42% of variance\n"
     ]
    }
   ],
   "source": [
    "print(\"Aggregated groups:\")\n",
    "for ind in table.index:\n",
    "    \n",
    "    print(\"{} \\t\\t {:.2%} of variance\".format(ind,table.loc[ind,'sum_sq'] / table.sum_sq.sum()))\n",
    "\n",
    "print(\"\\nAveraged groups:\")\n",
    "for ind in table.index:\n",
    "    \n",
    "    print(\"{} \\t\\t {:.2%} of variance\".format(ind,table_avg.loc[ind,'sum_sq'] / table_avg.sum_sq.sum()))"
   ]
  },
  {
   "cell_type": "markdown",
   "metadata": {},
   "source": [
    "### Looks there is not a great difference between averaging or aggregating technical replicate data. Also, removing temperature increases model performance. \n",
    "___\n",
    "Not shown here: analyses running `linearmodels.PanelOLS` panel analyses on the temperature experiment fail when including both *temperature* and *passage* due to collinearity.  "
   ]
  }
 ],
 "metadata": {
  "kernelspec": {
   "display_name": "Python 3",
   "language": "python",
   "name": "python3"
  },
  "language_info": {
   "codemirror_mode": {
    "name": "ipython",
    "version": 3
   },
   "file_extension": ".py",
   "mimetype": "text/x-python",
   "name": "python",
   "nbconvert_exporter": "python",
   "pygments_lexer": "ipython3",
   "version": "3.7.4"
  },
  "widgets": {
   "application/vnd.jupyter.widget-state+json": {
    "state": {},
    "version_major": 2,
    "version_minor": 0
   }
  }
 },
 "nbformat": 4,
 "nbformat_minor": 4
}
